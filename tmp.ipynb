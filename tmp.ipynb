{
 "cells": [
  {
   "cell_type": "code",
   "execution_count": 42,
   "outputs": [],
   "source": [
    "import sympy as sp\n",
    "from IPython.core.interactiveshell import InteractiveShell\n",
    "from IPython.display import display, Math, Latex, Markdown\n",
    "\n",
    "InteractiveShell.ast_node_interactivity = \"all\""
   ],
   "metadata": {
    "collapsed": false,
    "pycharm": {
     "name": "#%%\n"
    }
   }
  },
  {
   "cell_type": "code",
   "execution_count": 43,
   "outputs": [],
   "source": [
    "def get_proj_formula(v1_name: str, v2_name: str) -> str:\n",
    "    return '\\\\textit{proj}_{\\\\mathbf{' + v2_name + '}}\\\\mathbf{' + v1_name + '}'"
   ],
   "metadata": {
    "collapsed": false,
    "pycharm": {
     "name": "#%%\n"
    }
   }
  },
  {
   "cell_type": "code",
   "execution_count": 44,
   "outputs": [],
   "source": [
    "def scalar_product(v1: sp.Matrix, v2: sp.Matrix, v1_name: str = \"a\", v2_name: str = \"b\") -> int:\n",
    "    result = v1.dot(v2.T)\n",
    "\n",
    "    # Формула скалярного произведения\n",
    "    formula = '\\\\langle\\\\mathbf{' + v1_name + '} ,\\\\mathbf{' + v2_name + '}\\\\rangle = '\n",
    "    for i in range(len(v1) - 1):\n",
    "        formula += str(v1[i]) + \"\\\\cdot\" + str(v2[i]) + \" + \"\n",
    "    formula += str(v1[-1]) + \"\\\\cdot\" + str(v2[-1]) + \" = \" + str(result)\n",
    "\n",
    "    display(Math(formula))\n",
    "\n",
    "    return result"
   ],
   "metadata": {
    "collapsed": false,
    "pycharm": {
     "name": "#%%\n"
    }
   }
  },
  {
   "cell_type": "code",
   "execution_count": 45,
   "outputs": [
    {
     "data": {
      "text/plain": "<IPython.core.display.Markdown object>",
      "text/markdown": "#### Посчитаем проекцию a на b"
     },
     "metadata": {},
     "output_type": "display_data"
    },
    {
     "data": {
      "text/plain": "<IPython.core.display.Math object>",
      "text/latex": "$\\displaystyle \\langle\\mathbf{a} ,\\mathbf{b}\\rangle = 1\\cdot4 + 2\\cdot5 + 3\\cdot6 = 32$"
     },
     "metadata": {},
     "output_type": "display_data"
    },
    {
     "data": {
      "text/plain": "<IPython.core.display.Math object>",
      "text/latex": "$\\displaystyle \\langle\\mathbf{b} ,\\mathbf{b}\\rangle = 4\\cdot4 + 5\\cdot5 + 6\\cdot6 = 77$"
     },
     "metadata": {},
     "output_type": "display_data"
    },
    {
     "data": {
      "text/plain": "<IPython.core.display.Math object>",
      "text/latex": "$\\displaystyle \\textit{proj}_{\\mathbf{b}}\\mathbf{a} = \\frac{\\langle\\mathbf{a} ,\\mathbf{b}\\rangle}{\\lVert{\\mathbf{b}}^2\\rVert} \\mathbf{b} = \\frac{32}{77} \\mathbf{\\left[\\begin{matrix}4\\\\5\\\\6\\end{matrix}\\right]} = \\left[\\begin{matrix}\\frac{128}{77}\\\\\\frac{160}{77}\\\\\\frac{192}{77}\\end{matrix}\\right]$"
     },
     "metadata": {},
     "output_type": "display_data"
    },
    {
     "data": {
      "text/plain": "Matrix([\n[128/77],\n[160/77],\n[192/77]])",
      "text/latex": "$\\displaystyle \\left[\\begin{matrix}\\frac{128}{77}\\\\\\frac{160}{77}\\\\\\frac{192}{77}\\end{matrix}\\right]$"
     },
     "execution_count": 45,
     "metadata": {},
     "output_type": "execute_result"
    }
   ],
   "source": [
    "def projection(v1: sp.Matrix, v2: sp.Matrix, v1_name = \"a\", v2_name = \"b\") -> sp.Matrix:\n",
    "    display(Markdown(f\"#### Посчитаем проекцию {v1_name} на {v2_name}\"))\n",
    "\n",
    "    v1_dot_v2 = scalar_product(v1, v2, v1_name, v2_name)\n",
    "    v2_dot_v2 = scalar_product(v2, v2, v2_name, v2_name)\n",
    "    proj_result = (v1_dot_v2 / v2_dot_v2) * v2\n",
    "\n",
    "    # Формула для вывода проекции. Просто выводит формулу проекции красивую. И все.\n",
    "    formula = get_proj_formula(v1_name, v2_name) + ' = \\\\frac{\\\\langle\\\\mathbf{' + v1_name + '} ,\\\\mathbf{' + v2_name + '}\\\\rangle}{\\\\lVert{\\\\mathbf{' + v2_name + '}}^2\\\\rVert} \\\\mathbf{' + v2_name + '} = ' + '\\\\frac{' + str(v1_dot_v2) + '}{' + str(v2_dot_v2) + '} \\\\mathbf{' + sp.latex(v2) + '} = ' + sp.latex(proj_result)\n",
    "    display(Math(formula))\n",
    "\n",
    "    return proj_result\n",
    "\n",
    "projection(sp.Matrix([1, 2, 3]), sp.Matrix([4, 5, 6]))"
   ],
   "metadata": {
    "collapsed": false,
    "pycharm": {
     "name": "#%%\n"
    }
   }
  },
  {
   "cell_type": "code",
   "execution_count": 50,
   "outputs": [
    {
     "data": {
      "text/plain": "<IPython.core.display.Markdown object>",
      "text/markdown": "### Новый вектор b_2"
     },
     "metadata": {},
     "output_type": "display_data"
    },
    {
     "data": {
      "text/plain": "<IPython.core.display.Math object>",
      "text/latex": "$\\displaystyle b_2 = a_2 - \\textit{proj}_{\\mathbf{b_1}}\\mathbf{a_2}$"
     },
     "metadata": {},
     "output_type": "display_data"
    },
    {
     "data": {
      "text/plain": "<IPython.core.display.Markdown object>",
      "text/markdown": "#### Посчитаем проекцию a_2 на b_1"
     },
     "metadata": {},
     "output_type": "display_data"
    },
    {
     "data": {
      "text/plain": "<IPython.core.display.Math object>",
      "text/latex": "$\\displaystyle \\langle\\mathbf{a_2} ,\\mathbf{b_1}\\rangle = 1\\cdot1 + 1\\cdot-1 + 1\\cdot0 + 1\\cdot1 = 1$"
     },
     "metadata": {},
     "output_type": "display_data"
    },
    {
     "data": {
      "text/plain": "<IPython.core.display.Math object>",
      "text/latex": "$\\displaystyle \\langle\\mathbf{b_1} ,\\mathbf{b_1}\\rangle = 1\\cdot1 + -1\\cdot-1 + 0\\cdot0 + 1\\cdot1 = 3$"
     },
     "metadata": {},
     "output_type": "display_data"
    },
    {
     "data": {
      "text/plain": "<IPython.core.display.Math object>",
      "text/latex": "$\\displaystyle \\textit{proj}_{\\mathbf{b_1}}\\mathbf{a_2} = \\frac{\\langle\\mathbf{a_2} ,\\mathbf{b_1}\\rangle}{\\lVert{\\mathbf{b_1}}^2\\rVert} \\mathbf{b_1} = \\frac{1}{3} \\mathbf{\\left[\\begin{matrix}1\\\\-1\\\\0\\\\1\\end{matrix}\\right]} = \\left[\\begin{matrix}\\frac{1}{3}\\\\- \\frac{1}{3}\\\\0\\\\\\frac{1}{3}\\end{matrix}\\right]$"
     },
     "metadata": {},
     "output_type": "display_data"
    },
    {
     "data": {
      "text/plain": "<IPython.core.display.Math object>",
      "text/latex": "$\\displaystyle b_2 = \\left[\\begin{matrix}\\frac{2}{3}\\\\\\frac{4}{3}\\\\1\\\\\\frac{2}{3}\\end{matrix}\\right]$"
     },
     "metadata": {},
     "output_type": "display_data"
    },
    {
     "data": {
      "text/plain": "<IPython.core.display.Markdown object>",
      "text/markdown": "### Новый вектор b_3"
     },
     "metadata": {},
     "output_type": "display_data"
    },
    {
     "data": {
      "text/plain": "<IPython.core.display.Math object>",
      "text/latex": "$\\displaystyle b_3 = a_3 - \\textit{proj}_{\\mathbf{b_1}}\\mathbf{a_3} - \\textit{proj}_{\\mathbf{b_2}}\\mathbf{a_3}$"
     },
     "metadata": {},
     "output_type": "display_data"
    },
    {
     "data": {
      "text/plain": "<IPython.core.display.Markdown object>",
      "text/markdown": "#### Посчитаем проекцию a_3 на b_1"
     },
     "metadata": {},
     "output_type": "display_data"
    },
    {
     "data": {
      "text/plain": "<IPython.core.display.Math object>",
      "text/latex": "$\\displaystyle \\langle\\mathbf{a_3} ,\\mathbf{b_1}\\rangle = 0\\cdot1 + -1\\cdot-1 + 1\\cdot0 + 1\\cdot1 = 2$"
     },
     "metadata": {},
     "output_type": "display_data"
    },
    {
     "data": {
      "text/plain": "<IPython.core.display.Math object>",
      "text/latex": "$\\displaystyle \\langle\\mathbf{b_1} ,\\mathbf{b_1}\\rangle = 1\\cdot1 + -1\\cdot-1 + 0\\cdot0 + 1\\cdot1 = 3$"
     },
     "metadata": {},
     "output_type": "display_data"
    },
    {
     "data": {
      "text/plain": "<IPython.core.display.Math object>",
      "text/latex": "$\\displaystyle \\textit{proj}_{\\mathbf{b_1}}\\mathbf{a_3} = \\frac{\\langle\\mathbf{a_3} ,\\mathbf{b_1}\\rangle}{\\lVert{\\mathbf{b_1}}^2\\rVert} \\mathbf{b_1} = \\frac{2}{3} \\mathbf{\\left[\\begin{matrix}1\\\\-1\\\\0\\\\1\\end{matrix}\\right]} = \\left[\\begin{matrix}\\frac{2}{3}\\\\- \\frac{2}{3}\\\\0\\\\\\frac{2}{3}\\end{matrix}\\right]$"
     },
     "metadata": {},
     "output_type": "display_data"
    },
    {
     "data": {
      "text/plain": "<IPython.core.display.Markdown object>",
      "text/markdown": "#### Посчитаем проекцию a_3 на b_2"
     },
     "metadata": {},
     "output_type": "display_data"
    },
    {
     "data": {
      "text/plain": "<IPython.core.display.Math object>",
      "text/latex": "$\\displaystyle \\langle\\mathbf{a_3} ,\\mathbf{b_2}\\rangle = 0\\cdot1 + -1\\cdot1 + 1\\cdot1 + 1\\cdot1 = 1$"
     },
     "metadata": {},
     "output_type": "display_data"
    },
    {
     "data": {
      "text/plain": "<IPython.core.display.Math object>",
      "text/latex": "$\\displaystyle \\langle\\mathbf{b_2} ,\\mathbf{b_2}\\rangle = 1\\cdot1 + 1\\cdot1 + 1\\cdot1 + 1\\cdot1 = 4$"
     },
     "metadata": {},
     "output_type": "display_data"
    },
    {
     "data": {
      "text/plain": "<IPython.core.display.Math object>",
      "text/latex": "$\\displaystyle \\textit{proj}_{\\mathbf{b_2}}\\mathbf{a_3} = \\frac{\\langle\\mathbf{a_3} ,\\mathbf{b_2}\\rangle}{\\lVert{\\mathbf{b_2}}^2\\rVert} \\mathbf{b_2} = \\frac{1}{4} \\mathbf{\\left[\\begin{matrix}1\\\\1\\\\1\\\\1\\end{matrix}\\right]} = \\left[\\begin{matrix}\\frac{1}{4}\\\\\\frac{1}{4}\\\\\\frac{1}{4}\\\\\\frac{1}{4}\\end{matrix}\\right]$"
     },
     "metadata": {},
     "output_type": "display_data"
    },
    {
     "data": {
      "text/plain": "<IPython.core.display.Math object>",
      "text/latex": "$\\displaystyle b_3 = \\left[\\begin{matrix}- \\frac{11}{12}\\\\- \\frac{7}{12}\\\\\\frac{3}{4}\\\\\\frac{1}{12}\\end{matrix}\\right]$"
     },
     "metadata": {},
     "output_type": "display_data"
    },
    {
     "data": {
      "text/plain": "<IPython.core.display.Markdown object>",
      "text/markdown": "### Результат"
     },
     "metadata": {},
     "output_type": "display_data"
    },
    {
     "data": {
      "text/plain": "<IPython.core.display.Math object>",
      "text/latex": "$\\displaystyle b_1 = \\left[\\begin{matrix}1\\\\-1\\\\0\\\\1\\end{matrix}\\right]$"
     },
     "metadata": {},
     "output_type": "display_data"
    },
    {
     "data": {
      "text/plain": "<IPython.core.display.Math object>",
      "text/latex": "$\\displaystyle b_2 = \\left[\\begin{matrix}\\frac{2}{3}\\\\\\frac{4}{3}\\\\1\\\\\\frac{2}{3}\\end{matrix}\\right]$"
     },
     "metadata": {},
     "output_type": "display_data"
    },
    {
     "data": {
      "text/plain": "<IPython.core.display.Math object>",
      "text/latex": "$\\displaystyle b_3 = \\left[\\begin{matrix}- \\frac{11}{12}\\\\- \\frac{7}{12}\\\\\\frac{3}{4}\\\\\\frac{1}{12}\\end{matrix}\\right]$"
     },
     "metadata": {},
     "output_type": "display_data"
    }
   ],
   "source": [
    "def orthoganalize(vectors: list[sp.Matrix], vectors_name = 'a', projections_name = 'b') -> list[sp.Matrix]:\n",
    "    # Список проекций\n",
    "    projections: list[sp.Matrix] = list()\n",
    "\n",
    "    # Первый вектор b1 = a1 будем добавлять без изменений\n",
    "    projections.append(vectors[0])\n",
    "\n",
    "    for vector_ind in range(1, len(vectors)):\n",
    "        # Вывод формул\n",
    "        projection_vector_name = projections_name + \"_\" + str(vector_ind + 1)\n",
    "        vector_name = vectors_name + \"_\" + str(vector_ind + 1)\n",
    "        formula = projection_vector_name + \" = \" + str(vector_name)\n",
    "\n",
    "        display(Markdown(f\"### Новый вектор {projection_vector_name}\"))\n",
    "\n",
    "        for base in range(0, vector_ind):\n",
    "            projection_name = projections_name + \"_\" + str(base + 1)\n",
    "            formula += \" - \" + get_proj_formula(vector_name, projection_name)\n",
    "        display(Math(formula))\n",
    "\n",
    "        # Вычисления\n",
    "        result = vectors[vector_ind]\n",
    "        for base in range(0, vector_ind):\n",
    "            projection_name = projections_name + \"_\" + str(base + 1)\n",
    "            result -= projection(vectors[vector_ind], vectors[base], vector_name, projection_name)\n",
    "\n",
    "        display(Math(projection_vector_name + \" = \" + sp.latex(result)))\n",
    "        projections.append(result)\n",
    "\n",
    "    return projections\n",
    "\n",
    "result = orthoganalize([sp.Matrix([1, -1, 0, 1]), sp.Matrix([1, 1, 1, 1]), sp.Matrix([0, -1, 1, 1])])\n",
    "\n",
    "\n",
    "display(Markdown(f\"### Результат\"))\n",
    "for vector_ind in range(len(result)):\n",
    "    projection_vector_name = 'b' + \"_\" + str(vector_ind + 1)\n",
    "    display(Math(projection_vector_name + \" = \" + sp.latex(result[vector_ind])))"
   ],
   "metadata": {
    "collapsed": false,
    "pycharm": {
     "name": "#%%\n"
    }
   }
  },
  {
   "cell_type": "markdown",
   "source": [
    "## QR-разложение"
   ],
   "metadata": {
    "collapsed": false
   }
  },
  {
   "cell_type": "code",
   "execution_count": null,
   "outputs": [],
   "source": [
    "def QRdecomposition(vectors: list[sp.Matrix]):\n",
    "    display(Markdown(f\"### Ортоганализуем вектора по Граму-Шмидту\"))\n",
    "    orthoganalized = orthoganalize(vectors)\n",
    "\n"
   ],
   "metadata": {
    "collapsed": false,
    "pycharm": {
     "name": "#%%\n"
    }
   }
  },
  {
   "cell_type": "code",
   "execution_count": 46,
   "outputs": [],
   "source": [],
   "metadata": {
    "collapsed": false,
    "pycharm": {
     "name": "#%%\n"
    }
   }
  }
 ],
 "metadata": {
  "kernelspec": {
   "display_name": "Python 3",
   "language": "python",
   "name": "python3"
  },
  "language_info": {
   "codemirror_mode": {
    "name": "ipython",
    "version": 2
   },
   "file_extension": ".py",
   "mimetype": "text/x-python",
   "name": "python",
   "nbconvert_exporter": "python",
   "pygments_lexer": "ipython2",
   "version": "2.7.6"
  }
 },
 "nbformat": 4,
 "nbformat_minor": 0
}