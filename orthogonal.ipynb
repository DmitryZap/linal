{
 "cells": [
  {
   "cell_type": "code",
   "execution_count": 1,
   "metadata": {
    "collapsed": true,
    "ExecuteTime": {
     "end_time": "2023-06-29T15:22:30.505906Z",
     "start_time": "2023-06-29T15:22:29.793935Z"
    }
   },
   "outputs": [],
   "source": [
    "import sympy as sp\n",
    "from IPython.display import display\n",
    "from IPython.core.interactiveshell import InteractiveShell\n",
    "\n",
    "InteractiveShell.ast_node_interactivity = \"all\""
   ]
  },
  {
   "cell_type": "code",
   "execution_count": 3,
   "outputs": [
    {
     "data": {
      "text/plain": "Matrix([\n[ 2/3,  2/3, -1/3],\n[-1/3,  2/3,  2/3],\n[ 2/3, -1/3,  2/3]])",
      "text/latex": "$\\displaystyle \\left[\\begin{matrix}\\frac{2}{3} & \\frac{2}{3} & - \\frac{1}{3}\\\\- \\frac{1}{3} & \\frac{2}{3} & \\frac{2}{3}\\\\\\frac{2}{3} & - \\frac{1}{3} & \\frac{2}{3}\\end{matrix}\\right]$"
     },
     "execution_count": 3,
     "metadata": {},
     "output_type": "execute_result"
    }
   ],
   "source": [
    "# input\n",
    "\n",
    "O = sp.S(1) / sp.S(3) * sp.Matrix([\n",
    "    [2, 2, -1],\n",
    "    [-1, 2, 2],\n",
    "    [2, -1, 2]\n",
    "])\n",
    "\n",
    "O"
   ],
   "metadata": {
    "collapsed": false,
    "ExecuteTime": {
     "end_time": "2023-06-29T15:24:39.513646Z",
     "start_time": "2023-06-29T15:24:39.506522Z"
    }
   }
  },
  {
   "cell_type": "code",
   "execution_count": 17,
   "outputs": [
    {
     "data": {
      "text/plain": "Matrix([\n[cos(\\phi), -sin(\\phi),  0],\n[sin(\\phi),  cos(\\phi),  0],\n[        0,          0, -1]])",
      "text/latex": "$\\displaystyle \\left[\\begin{matrix}\\cos{\\left(\\phi \\right)} & - \\sin{\\left(\\phi \\right)} & 0\\\\\\sin{\\left(\\phi \\right)} & \\cos{\\left(\\phi \\right)} & 0\\\\0 & 0 & -1\\end{matrix}\\right]$"
     },
     "metadata": {},
     "output_type": "display_data"
    },
    {
     "data": {
      "text/plain": "Matrix([\n[cos(\\phi), -sin(\\phi), 0],\n[sin(\\phi),  cos(\\phi), 0],\n[        0,          0, 1]])",
      "text/latex": "$\\displaystyle \\left[\\begin{matrix}\\cos{\\left(\\phi \\right)} & - \\sin{\\left(\\phi \\right)} & 0\\\\\\sin{\\left(\\phi \\right)} & \\cos{\\left(\\phi \\right)} & 0\\\\0 & 0 & 1\\end{matrix}\\right]$"
     },
     "metadata": {},
     "output_type": "display_data"
    }
   ],
   "source": [
    "phi = sp.Symbol(\"\\phi\", real=True)\n",
    "O_canonical1 = sp.Matrix([\n",
    "    [sp.cos(phi), -sp.sin(phi), 0],\n",
    "    [sp.sin(phi), sp.cos(phi), 0],\n",
    "    [0, 0, -1]\n",
    "])\n",
    "\n",
    "O_canonical2 = sp.Matrix([\n",
    "    [sp.cos(phi), -sp.sin(phi), 0],\n",
    "    [sp.sin(phi), sp.cos(phi), 0],\n",
    "    [0, 0, 1]\n",
    "])\n",
    "display(O_canonical1)\n",
    "display(O_canonical2)"
   ],
   "metadata": {
    "collapsed": false,
    "ExecuteTime": {
     "end_time": "2023-06-29T15:40:57.476550Z",
     "start_time": "2023-06-29T15:40:57.469125Z"
    }
   }
  },
  {
   "cell_type": "code",
   "execution_count": 19,
   "outputs": [
    {
     "data": {
      "text/plain": "Trace(Matrix([\n[ 2/3,  2/3, -1/3],\n[-1/3,  2/3,  2/3],\n[ 2/3, -1/3,  2/3]])) - Trace(Matrix([\n[cos(\\phi), -sin(\\phi),  0],\n[sin(\\phi),  cos(\\phi),  0],\n[        0,          0, -1]]))",
      "text/latex": "$\\displaystyle \\operatorname{tr}\\left(\\left[\\begin{matrix}\\frac{2}{3} & \\frac{2}{3} & - \\frac{1}{3}\\\\- \\frac{1}{3} & \\frac{2}{3} & \\frac{2}{3}\\\\\\frac{2}{3} & - \\frac{1}{3} & \\frac{2}{3}\\end{matrix}\\right] \\right) - \\operatorname{tr}\\left(\\left[\\begin{matrix}\\cos{\\left(\\phi \\right)} & - \\sin{\\left(\\phi \\right)} & 0\\\\\\sin{\\left(\\phi \\right)} & \\cos{\\left(\\phi \\right)} & 0\\\\0 & 0 & -1\\end{matrix}\\right] \\right)$"
     },
     "metadata": {},
     "output_type": "display_data"
    },
    {
     "data": {
      "text/plain": "3 - 2*cos(\\phi)",
      "text/latex": "$\\displaystyle 3 - 2 \\cos{\\left(\\phi \\right)}$"
     },
     "metadata": {},
     "output_type": "display_data"
    },
    {
     "data": {
      "text/plain": "[]"
     },
     "metadata": {},
     "output_type": "display_data"
    },
    {
     "name": "stdout",
     "output_type": "stream",
     "text": [
      "----------\n"
     ]
    },
    {
     "data": {
      "text/plain": "Trace(Matrix([\n[ 2/3,  2/3, -1/3],\n[-1/3,  2/3,  2/3],\n[ 2/3, -1/3,  2/3]])) - Trace(Matrix([\n[cos(\\phi), -sin(\\phi), 0],\n[sin(\\phi),  cos(\\phi), 0],\n[        0,          0, 1]]))",
      "text/latex": "$\\displaystyle \\operatorname{tr}\\left(\\left[\\begin{matrix}\\frac{2}{3} & \\frac{2}{3} & - \\frac{1}{3}\\\\- \\frac{1}{3} & \\frac{2}{3} & \\frac{2}{3}\\\\\\frac{2}{3} & - \\frac{1}{3} & \\frac{2}{3}\\end{matrix}\\right] \\right) - \\operatorname{tr}\\left(\\left[\\begin{matrix}\\cos{\\left(\\phi \\right)} & - \\sin{\\left(\\phi \\right)} & 0\\\\\\sin{\\left(\\phi \\right)} & \\cos{\\left(\\phi \\right)} & 0\\\\0 & 0 & 1\\end{matrix}\\right] \\right)$"
     },
     "metadata": {},
     "output_type": "display_data"
    },
    {
     "data": {
      "text/plain": "1 - 2*cos(\\phi)",
      "text/latex": "$\\displaystyle 1 - 2 \\cos{\\left(\\phi \\right)}$"
     },
     "metadata": {},
     "output_type": "display_data"
    },
    {
     "data": {
      "text/plain": "[pi/3, 5*pi/3]"
     },
     "metadata": {},
     "output_type": "display_data"
    }
   ],
   "source": [
    "equation1 = sp.Trace(O) - sp.Trace(O_canonical1)\n",
    "display(equation1)\n",
    "\n",
    "equation1 = equation1.simplify()\n",
    "display(equation1)\n",
    "\n",
    "solutions1 = sp.solvers.solve(equation1)\n",
    "display(solutions1)\n",
    "\n",
    "print(\"----------\")\n",
    "\n",
    "equation2 = sp.Trace(O) - sp.Trace(O_canonical2)\n",
    "display(equation2)\n",
    "\n",
    "equation2 = equation2.simplify()\n",
    "display(equation2)\n",
    "\n",
    "solutions2 = sp.solvers.solve(equation2)\n",
    "display(solutions2)"
   ],
   "metadata": {
    "collapsed": false,
    "ExecuteTime": {
     "end_time": "2023-06-29T15:41:43.003433Z",
     "start_time": "2023-06-29T15:41:42.633250Z"
    }
   }
  },
  {
   "cell_type": "code",
   "execution_count": null,
   "outputs": [],
   "source": [],
   "metadata": {
    "collapsed": false
   }
  }
 ],
 "metadata": {
  "kernelspec": {
   "display_name": "Python 3",
   "language": "python",
   "name": "python3"
  },
  "language_info": {
   "codemirror_mode": {
    "name": "ipython",
    "version": 2
   },
   "file_extension": ".py",
   "mimetype": "text/x-python",
   "name": "python",
   "nbconvert_exporter": "python",
   "pygments_lexer": "ipython2",
   "version": "2.7.6"
  }
 },
 "nbformat": 4,
 "nbformat_minor": 0
}
