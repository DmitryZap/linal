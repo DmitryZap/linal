{
 "cells": [
  {
   "cell_type": "code",
   "execution_count": 45,
   "metadata": {
    "ExecuteTime": {
     "end_time": "2023-06-29T17:11:07.588926Z",
     "start_time": "2023-06-29T17:11:07.582089Z"
    }
   },
   "outputs": [],
   "source": [
    "import sympy as sp\n",
    "from IPython.core.interactiveshell import InteractiveShell\n",
    "from IPython.display import display, Math, Latex, Markdown\n",
    "\n",
    "InteractiveShell.ast_node_interactivity = \"all\""
   ]
  },
  {
   "cell_type": "markdown",
   "metadata": {},
   "source": [
    "## Поиск собственных значений и векторов"
   ]
  },
  {
   "cell_type": "code",
   "execution_count": null,
   "metadata": {
    "scrolled": true
   },
   "outputs": [],
   "source": [
    "class Eigenvector:\n",
    "    def __init__(self, eigenvalue, alpha, eigenspace):\n",
    "        self.eigenvalue = eigenvalue\n",
    "        self.alpha = alpha\n",
    "        self.eigenspace = eigenspace\n",
    "        self.gamma = len(eigenspace)\n",
    "\n",
    "\n",
    "def find_eigenvectors(M: sp.Matrix, name: str = \"M\") -> list:\n",
    "    display(Markdown(\"## Посчитаем собственные вектора матрицы\"))\n",
    "\n",
    "    display(Markdown(\"### Сначала найдем характеристический многочлен\"))\n",
    "    lamb = sp.Symbol(r\"\\lambda\")\n",
    "    M_char_matrix = sp.Determinant(M - lamb * sp.eye(M.shape[0]))\n",
    "    display(Math(name + \" - \" + lamb.name + r\" \\cdot E = \"))\n",
    "    display(M_char_matrix)\n",
    "    M_char = M_char_matrix.simplify()\n",
    "    display(M_char)\n",
    "\n",
    "    display(Markdown(\"### Найдем его корни и их алгебраические кратности\"))\n",
    "\n",
    "    M_eigenvectors = M.eigenvects()\n",
    "\n",
    "    for i in range(len(M_eigenvectors)):\n",
    "        eigenvalue, alpha, _ = M_eigenvectors[i]\n",
    "        display(Math(\n",
    "            lamb.name + \"_\" + str(i + 1) + \" = \" + str(eigenvalue) + \", \" + r\"\\alpha(\" + str(eigenvalue) + \") = \" + str(\n",
    "                alpha)))\n",
    "\n",
    "    display(Markdown(\"### Для каждого собственного значения найдем собственное подпространство\"))\n",
    "\n",
    "    M_result_eigenvectors = []\n",
    "    for i in range(len(M_eigenvectors)):\n",
    "        eigenvalue, alpha, eigenspace = M_eigenvectors[i]\n",
    "        display(Math(lamb.name + \"_\" + str(i + 1) + \" = \" + str(eigenvalue) + \":\"))\n",
    "\n",
    "        M_eigen_system = M - eigenvalue * sp.eye(M.shape[0])\n",
    "        display(M_eigen_system)\n",
    "\n",
    "        display(Markdown(\"Перейдем к улучшенному ступенчатому виду\"))\n",
    "        M_eigen_system_rref, _ = M_eigen_system.rref()\n",
    "        display(M_eigen_system_rref)\n",
    "\n",
    "        display(Markdown(\"Т.о. собственное подпространство состоит из векторов: \"))\n",
    "        for eigenvector in eigenspace:\n",
    "            display(eigenvector)\n",
    "\n",
    "        gamma = len(eigenspace)\n",
    "        display(Math(r\"\\gamma(\" + str(eigenvalue) + \") = \" + str(gamma)))\n",
    "\n",
    "        M_result_eigenvectors.append(Eigenvector(eigenvalue, alpha, eigenspace))\n",
    "\n",
    "    return M_result_eigenvectors\n",
    "\n",
    "\n",
    "find_eigenvectors(sp.Matrix([\n",
    "    [2, -1, -2],\n",
    "    [-1, 5, 1],\n",
    "    [-2, 1, 2],\n",
    "]), \"Q\")"
   ]
  },
  {
   "cell_type": "markdown",
   "source": [
    "## Диагонализация"
   ],
   "metadata": {
    "collapsed": false
   }
  },
  {
   "cell_type": "code",
   "execution_count": null,
   "metadata": {},
   "outputs": [],
   "source": [
    "def diagonalize(M: sp.Matrix, name: str = \"M\") -> sp.Matrix:\n",
    "    M_eigenvectors = find_eigenvectors(M, name)\n",
    "\n",
    "    is_diagonalizable = True\n",
    "    for eigenvector in M_eigenvectors:\n",
    "        is_diagonalizable = is_diagonalizable and (eigenvector.alpha == eigenvector.gamma)\n",
    "\n",
    "    if is_diagonalizable:\n",
    "        display()\n",
    "    else:\n",
    "        display()"
   ]
  }
 ],
 "metadata": {
  "kernelspec": {
   "display_name": "Python 3 (ipykernel)",
   "language": "python",
   "name": "python3"
  },
  "language_info": {
   "codemirror_mode": {
    "name": "ipython",
    "version": 3
   },
   "file_extension": ".py",
   "mimetype": "text/x-python",
   "name": "python",
   "nbconvert_exporter": "python",
   "pygments_lexer": "ipython3",
   "version": "3.8.9"
  }
 },
 "nbformat": 4,
 "nbformat_minor": 1
}
