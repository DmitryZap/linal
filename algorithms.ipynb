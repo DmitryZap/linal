{
 "cells": [
  {
   "cell_type": "code",
   "execution_count": 44,
   "metadata": {
    "ExecuteTime": {
     "end_time": "2023-06-29T17:41:54.739640Z",
     "start_time": "2023-06-29T17:41:54.569528Z"
    }
   },
   "outputs": [],
   "source": [
    "import sympy as sp\n",
    "import numpy as np\n",
    "from functools import total_ordering\n",
    "from IPython.core.interactiveshell import InteractiveShell\n",
    "from IPython.display import display, Math, Latex, Markdown\n",
    "\n",
    "InteractiveShell.ast_node_interactivity = \"all\""
   ]
  },
  {
   "cell_type": "markdown",
   "metadata": {},
   "source": [
    "## Поиск собственных значений и векторов"
   ]
  },
  {
   "cell_type": "code",
   "execution_count": 46,
   "metadata": {
    "is_executing": true,
    "scrolled": true
   },
   "outputs": [
    {
     "data": {
      "text/markdown": [
       "## Посчитаем собственные вектора матрицы"
      ],
      "text/plain": [
       "<IPython.core.display.Markdown object>"
      ]
     },
     "metadata": {},
     "output_type": "display_data"
    },
    {
     "data": {
      "text/markdown": [
       "### Сначала найдем характеристический многочлен"
      ],
      "text/plain": [
       "<IPython.core.display.Markdown object>"
      ]
     },
     "metadata": {},
     "output_type": "display_data"
    },
    {
     "data": {
      "text/latex": [
       "$\\displaystyle Q - \\lambda \\cdot E = $"
      ],
      "text/plain": [
       "<IPython.core.display.Math object>"
      ]
     },
     "metadata": {},
     "output_type": "display_data"
    },
    {
     "data": {
      "text/latex": [
       "$\\displaystyle \\left|{\\begin{matrix}2 - \\lambda & -1 & -2\\\\-1 & 5 - \\lambda & 1\\\\-2 & 1 & 2 - \\lambda\\end{matrix}}\\right|$"
      ],
      "text/plain": [
       "Determinant(Matrix([\n",
       "[2 - \\lambda,          -1,          -2],\n",
       "[         -1, 5 - \\lambda,           1],\n",
       "[         -2,           1, 2 - \\lambda]]))"
      ]
     },
     "metadata": {},
     "output_type": "display_data"
    },
    {
     "data": {
      "text/latex": [
       "$\\displaystyle - \\lambda^{3} + 9 \\lambda^{2} - 18 \\lambda$"
      ],
      "text/plain": [
       "-\\lambda**3 + 9*\\lambda**2 - 18*\\lambda"
      ]
     },
     "metadata": {},
     "output_type": "display_data"
    },
    {
     "data": {
      "text/markdown": [
       "### Найдем его корни и их алгебраические кратности"
      ],
      "text/plain": [
       "<IPython.core.display.Markdown object>"
      ]
     },
     "metadata": {},
     "output_type": "display_data"
    },
    {
     "data": {
      "text/latex": [
       "$\\displaystyle \\lambda_1 = 0, \\alpha(0) = 1$"
      ],
      "text/plain": [
       "<IPython.core.display.Math object>"
      ]
     },
     "metadata": {},
     "output_type": "display_data"
    },
    {
     "data": {
      "text/latex": [
       "$\\displaystyle \\lambda_2 = 3, \\alpha(3) = 1$"
      ],
      "text/plain": [
       "<IPython.core.display.Math object>"
      ]
     },
     "metadata": {},
     "output_type": "display_data"
    },
    {
     "data": {
      "text/latex": [
       "$\\displaystyle \\lambda_3 = 6, \\alpha(6) = 1$"
      ],
      "text/plain": [
       "<IPython.core.display.Math object>"
      ]
     },
     "metadata": {},
     "output_type": "display_data"
    },
    {
     "data": {
      "text/markdown": [
       "### Для каждого собственного значения найдем собственное подпространство"
      ],
      "text/plain": [
       "<IPython.core.display.Markdown object>"
      ]
     },
     "metadata": {},
     "output_type": "display_data"
    },
    {
     "data": {
      "text/latex": [
       "$\\displaystyle \\lambda_1 = 0:$"
      ],
      "text/plain": [
       "<IPython.core.display.Math object>"
      ]
     },
     "metadata": {},
     "output_type": "display_data"
    },
    {
     "data": {
      "text/latex": [
       "$\\displaystyle \\left[\\begin{matrix}2 & -1 & -2\\\\-1 & 5 & 1\\\\-2 & 1 & 2\\end{matrix}\\right]$"
      ],
      "text/plain": [
       "Matrix([\n",
       "[ 2, -1, -2],\n",
       "[-1,  5,  1],\n",
       "[-2,  1,  2]])"
      ]
     },
     "metadata": {},
     "output_type": "display_data"
    },
    {
     "data": {
      "text/markdown": [
       "Перейдем к улучшенному ступенчатому виду"
      ],
      "text/plain": [
       "<IPython.core.display.Markdown object>"
      ]
     },
     "metadata": {},
     "output_type": "display_data"
    },
    {
     "data": {
      "text/latex": [
       "$\\displaystyle \\left[\\begin{matrix}1 & 0 & -1\\\\0 & 1 & 0\\\\0 & 0 & 0\\end{matrix}\\right]$"
      ],
      "text/plain": [
       "Matrix([\n",
       "[1, 0, -1],\n",
       "[0, 1,  0],\n",
       "[0, 0,  0]])"
      ]
     },
     "metadata": {},
     "output_type": "display_data"
    },
    {
     "data": {
      "text/markdown": [
       "Т.о. собственное подпространство состоит из векторов: "
      ],
      "text/plain": [
       "<IPython.core.display.Markdown object>"
      ]
     },
     "metadata": {},
     "output_type": "display_data"
    },
    {
     "data": {
      "text/latex": [
       "$\\displaystyle \\left[\\begin{matrix}1\\\\0\\\\1\\end{matrix}\\right]$"
      ],
      "text/plain": [
       "Matrix([\n",
       "[1],\n",
       "[0],\n",
       "[1]])"
      ]
     },
     "metadata": {},
     "output_type": "display_data"
    },
    {
     "data": {
      "text/latex": [
       "$\\displaystyle \\gamma(0) = 1$"
      ],
      "text/plain": [
       "<IPython.core.display.Math object>"
      ]
     },
     "metadata": {},
     "output_type": "display_data"
    },
    {
     "data": {
      "text/latex": [
       "$\\displaystyle \\lambda_2 = 3:$"
      ],
      "text/plain": [
       "<IPython.core.display.Math object>"
      ]
     },
     "metadata": {},
     "output_type": "display_data"
    },
    {
     "data": {
      "text/latex": [
       "$\\displaystyle \\left[\\begin{matrix}-1 & -1 & -2\\\\-1 & 2 & 1\\\\-2 & 1 & -1\\end{matrix}\\right]$"
      ],
      "text/plain": [
       "Matrix([\n",
       "[-1, -1, -2],\n",
       "[-1,  2,  1],\n",
       "[-2,  1, -1]])"
      ]
     },
     "metadata": {},
     "output_type": "display_data"
    },
    {
     "data": {
      "text/markdown": [
       "Перейдем к улучшенному ступенчатому виду"
      ],
      "text/plain": [
       "<IPython.core.display.Markdown object>"
      ]
     },
     "metadata": {},
     "output_type": "display_data"
    },
    {
     "data": {
      "text/latex": [
       "$\\displaystyle \\left[\\begin{matrix}1 & 0 & 1\\\\0 & 1 & 1\\\\0 & 0 & 0\\end{matrix}\\right]$"
      ],
      "text/plain": [
       "Matrix([\n",
       "[1, 0, 1],\n",
       "[0, 1, 1],\n",
       "[0, 0, 0]])"
      ]
     },
     "metadata": {},
     "output_type": "display_data"
    },
    {
     "data": {
      "text/markdown": [
       "Т.о. собственное подпространство состоит из векторов: "
      ],
      "text/plain": [
       "<IPython.core.display.Markdown object>"
      ]
     },
     "metadata": {},
     "output_type": "display_data"
    },
    {
     "data": {
      "text/latex": [
       "$\\displaystyle \\left[\\begin{matrix}-1\\\\-1\\\\1\\end{matrix}\\right]$"
      ],
      "text/plain": [
       "Matrix([\n",
       "[-1],\n",
       "[-1],\n",
       "[ 1]])"
      ]
     },
     "metadata": {},
     "output_type": "display_data"
    },
    {
     "data": {
      "text/latex": [
       "$\\displaystyle \\gamma(3) = 1$"
      ],
      "text/plain": [
       "<IPython.core.display.Math object>"
      ]
     },
     "metadata": {},
     "output_type": "display_data"
    },
    {
     "data": {
      "text/latex": [
       "$\\displaystyle \\lambda_3 = 6:$"
      ],
      "text/plain": [
       "<IPython.core.display.Math object>"
      ]
     },
     "metadata": {},
     "output_type": "display_data"
    },
    {
     "data": {
      "text/latex": [
       "$\\displaystyle \\left[\\begin{matrix}-4 & -1 & -2\\\\-1 & -1 & 1\\\\-2 & 1 & -4\\end{matrix}\\right]$"
      ],
      "text/plain": [
       "Matrix([\n",
       "[-4, -1, -2],\n",
       "[-1, -1,  1],\n",
       "[-2,  1, -4]])"
      ]
     },
     "metadata": {},
     "output_type": "display_data"
    },
    {
     "data": {
      "text/markdown": [
       "Перейдем к улучшенному ступенчатому виду"
      ],
      "text/plain": [
       "<IPython.core.display.Markdown object>"
      ]
     },
     "metadata": {},
     "output_type": "display_data"
    },
    {
     "data": {
      "text/latex": [
       "$\\displaystyle \\left[\\begin{matrix}1 & 0 & 1\\\\0 & 1 & -2\\\\0 & 0 & 0\\end{matrix}\\right]$"
      ],
      "text/plain": [
       "Matrix([\n",
       "[1, 0,  1],\n",
       "[0, 1, -2],\n",
       "[0, 0,  0]])"
      ]
     },
     "metadata": {},
     "output_type": "display_data"
    },
    {
     "data": {
      "text/markdown": [
       "Т.о. собственное подпространство состоит из векторов: "
      ],
      "text/plain": [
       "<IPython.core.display.Markdown object>"
      ]
     },
     "metadata": {},
     "output_type": "display_data"
    },
    {
     "data": {
      "text/latex": [
       "$\\displaystyle \\left[\\begin{matrix}-1\\\\2\\\\1\\end{matrix}\\right]$"
      ],
      "text/plain": [
       "Matrix([\n",
       "[-1],\n",
       "[ 2],\n",
       "[ 1]])"
      ]
     },
     "metadata": {},
     "output_type": "display_data"
    },
    {
     "data": {
      "text/latex": [
       "$\\displaystyle \\gamma(6) = 1$"
      ],
      "text/plain": [
       "<IPython.core.display.Math object>"
      ]
     },
     "metadata": {},
     "output_type": "display_data"
    },
    {
     "data": {
      "text/plain": [
       "[<__main__.Eigenvector at 0x10c9bd490>,\n",
       " <__main__.Eigenvector at 0x10cc9c9a0>,\n",
       " <__main__.Eigenvector at 0x10cb11f10>]"
      ]
     },
     "execution_count": 46,
     "metadata": {},
     "output_type": "execute_result"
    }
   ],
   "source": [
    "@total_ordering\n",
    "class Eigenvector:\n",
    "    def __init__(self, eigenvalue, alpha, eigenspace):\n",
    "        self.eigenvalue = eigenvalue\n",
    "        self.alpha = alpha\n",
    "        self.eigenspace = eigenspace\n",
    "        self.gamma = len(eigenspace)\n",
    "        \n",
    "    def __str__(self):\n",
    "        return f\"\"\"\n",
    "               eigenvalue = {self.eigenvalue},\n",
    "               alpha = {self.alpha},\n",
    "               gamma = {self.gamma}\n",
    "               eigenspace = {str(self.eigenspace)}  \n",
    "               \"\"\"\n",
    "    \n",
    "    def __lt__(self, other):\n",
    "        return self.eigenvalue < other.eigenvalue\n",
    "    \n",
    "    def __eq__(self, other): \n",
    "        if not isinstance(other, Eigenvector):\n",
    "            return NotImplemented\n",
    "\n",
    "        return self.eigenvalue == other.eigenvalue and self.alpha == other.alpha and self.gamma == other.gamma\n",
    "\n",
    "\n",
    "def find_eigenvectors(M: sp.Matrix, name: str = \"M\") -> list:\n",
    "    display(Markdown(\"## Посчитаем собственные вектора матрицы\"))\n",
    "\n",
    "    display(Markdown(\"### Сначала найдем характеристический многочлен\"))\n",
    "    lamb = sp.Symbol(r\"\\lambda\")\n",
    "    M_char_matrix = sp.Determinant(M - lamb * sp.eye(M.shape[0]))\n",
    "    display(Math(name + \" - \" + lamb.name + r\" \\cdot E = \"))\n",
    "    display(M_char_matrix)\n",
    "    M_char = M_char_matrix.simplify()\n",
    "    display(M_char)\n",
    "\n",
    "    display(Markdown(\"### Найдем его корни и их алгебраические кратности\"))\n",
    "\n",
    "    M_eigenvectors = M.eigenvects()\n",
    "\n",
    "    for i in range(len(M_eigenvectors)):\n",
    "        eigenvalue, alpha, _ = M_eigenvectors[i]\n",
    "        display(Math(\n",
    "            lamb.name + \"_\" + str(i + 1) + \" = \" + str(eigenvalue) + \", \" + r\"\\alpha(\" + str(eigenvalue) + \") = \" + str(\n",
    "                alpha)))\n",
    "\n",
    "    display(Markdown(\"### Для каждого собственного значения найдем собственное подпространство\"))\n",
    "\n",
    "    M_result_eigenvectors = []\n",
    "    for i in range(len(M_eigenvectors)):\n",
    "        eigenvalue, alpha, eigenspace = M_eigenvectors[i]\n",
    "        display(Math(lamb.name + \"_\" + str(i + 1) + \" = \" + str(eigenvalue) + \":\"))\n",
    "\n",
    "        M_eigen_system = M - eigenvalue * sp.eye(M.shape[0])\n",
    "        display(M_eigen_system)\n",
    "\n",
    "        display(Markdown(\"Перейдем к улучшенному ступенчатому виду\"))\n",
    "        M_eigen_system_rref, _ = M_eigen_system.rref()\n",
    "        display(M_eigen_system_rref)\n",
    "\n",
    "        display(Markdown(\"Т.о. собственное подпространство состоит из векторов: \"))\n",
    "        for eigenvector in eigenspace:\n",
    "            display(eigenvector)\n",
    "\n",
    "        gamma = len(eigenspace)\n",
    "        display(Math(r\"\\gamma(\" + str(eigenvalue) + \") = \" + str(gamma)))\n",
    "\n",
    "        M_result_eigenvectors.append(Eigenvector(eigenvalue, alpha, eigenspace))\n",
    "\n",
    "    return M_result_eigenvectors\n",
    "\n",
    "\n",
    "find_eigenvectors(sp.Matrix([\n",
    "    [2, -1, -2],\n",
    "    [-1, 5, 1],\n",
    "    [-2, 1, 2],\n",
    "]), \"Q\")"
   ]
  },
  {
   "cell_type": "markdown",
   "metadata": {},
   "source": [
    "## Диагонализация она же приведение квадратичной формы к каноническому виду (главным осям), она же приведение симметрической матрицы к каноническому виду"
   ]
  },
  {
   "cell_type": "code",
   "execution_count": 19,
   "metadata": {
    "ExecuteTime": {
     "end_time": "2023-06-29T18:25:04.110644Z",
     "start_time": "2023-06-29T18:25:02.012166Z"
    }
   },
   "outputs": [
    {
     "data": {
      "text/markdown": [
       "## Посчитаем собственные вектора матрицы"
      ],
      "text/plain": [
       "<IPython.core.display.Markdown object>"
      ]
     },
     "metadata": {},
     "output_type": "display_data"
    },
    {
     "data": {
      "text/markdown": [
       "### Сначала найдем характеристический многочлен"
      ],
      "text/plain": [
       "<IPython.core.display.Markdown object>"
      ]
     },
     "metadata": {},
     "output_type": "display_data"
    },
    {
     "data": {
      "text/latex": [
       "$\\displaystyle Q - \\lambda \\cdot E = $"
      ],
      "text/plain": [
       "<IPython.core.display.Math object>"
      ]
     },
     "metadata": {},
     "output_type": "display_data"
    },
    {
     "data": {
      "text/latex": [
       "$\\displaystyle \\left|{\\begin{matrix}2 - \\lambda & -1 & -2\\\\-1 & 5 - \\lambda & 1\\\\-2 & 1 & 2 - \\lambda\\end{matrix}}\\right|$"
      ],
      "text/plain": [
       "Determinant(Matrix([\n",
       "[2 - \\lambda,          -1,          -2],\n",
       "[         -1, 5 - \\lambda,           1],\n",
       "[         -2,           1, 2 - \\lambda]]))"
      ]
     },
     "metadata": {},
     "output_type": "display_data"
    },
    {
     "data": {
      "text/latex": [
       "$\\displaystyle - \\lambda^{3} + 9 \\lambda^{2} - 18 \\lambda$"
      ],
      "text/plain": [
       "-\\lambda**3 + 9*\\lambda**2 - 18*\\lambda"
      ]
     },
     "metadata": {},
     "output_type": "display_data"
    },
    {
     "data": {
      "text/markdown": [
       "### Найдем его корни и их алгебраические кратности"
      ],
      "text/plain": [
       "<IPython.core.display.Markdown object>"
      ]
     },
     "metadata": {},
     "output_type": "display_data"
    },
    {
     "data": {
      "text/latex": [
       "$\\displaystyle \\lambda_1 = 0, \\alpha(0) = 1$"
      ],
      "text/plain": [
       "<IPython.core.display.Math object>"
      ]
     },
     "metadata": {},
     "output_type": "display_data"
    },
    {
     "data": {
      "text/latex": [
       "$\\displaystyle \\lambda_2 = 3, \\alpha(3) = 1$"
      ],
      "text/plain": [
       "<IPython.core.display.Math object>"
      ]
     },
     "metadata": {},
     "output_type": "display_data"
    },
    {
     "data": {
      "text/latex": [
       "$\\displaystyle \\lambda_3 = 6, \\alpha(6) = 1$"
      ],
      "text/plain": [
       "<IPython.core.display.Math object>"
      ]
     },
     "metadata": {},
     "output_type": "display_data"
    },
    {
     "data": {
      "text/markdown": [
       "### Для каждого собственного значения найдем собственное подпространство"
      ],
      "text/plain": [
       "<IPython.core.display.Markdown object>"
      ]
     },
     "metadata": {},
     "output_type": "display_data"
    },
    {
     "data": {
      "text/latex": [
       "$\\displaystyle \\lambda_1 = 0:$"
      ],
      "text/plain": [
       "<IPython.core.display.Math object>"
      ]
     },
     "metadata": {},
     "output_type": "display_data"
    },
    {
     "data": {
      "text/latex": [
       "$\\displaystyle \\left[\\begin{matrix}2 & -1 & -2\\\\-1 & 5 & 1\\\\-2 & 1 & 2\\end{matrix}\\right]$"
      ],
      "text/plain": [
       "Matrix([\n",
       "[ 2, -1, -2],\n",
       "[-1,  5,  1],\n",
       "[-2,  1,  2]])"
      ]
     },
     "metadata": {},
     "output_type": "display_data"
    },
    {
     "data": {
      "text/markdown": [
       "Перейдем к улучшенному ступенчатому виду"
      ],
      "text/plain": [
       "<IPython.core.display.Markdown object>"
      ]
     },
     "metadata": {},
     "output_type": "display_data"
    },
    {
     "data": {
      "text/latex": [
       "$\\displaystyle \\left[\\begin{matrix}1 & 0 & -1\\\\0 & 1 & 0\\\\0 & 0 & 0\\end{matrix}\\right]$"
      ],
      "text/plain": [
       "Matrix([\n",
       "[1, 0, -1],\n",
       "[0, 1,  0],\n",
       "[0, 0,  0]])"
      ]
     },
     "metadata": {},
     "output_type": "display_data"
    },
    {
     "data": {
      "text/markdown": [
       "Т.о. собственное подпространство состоит из векторов: "
      ],
      "text/plain": [
       "<IPython.core.display.Markdown object>"
      ]
     },
     "metadata": {},
     "output_type": "display_data"
    },
    {
     "data": {
      "text/latex": [
       "$\\displaystyle \\left[\\begin{matrix}1\\\\0\\\\1\\end{matrix}\\right]$"
      ],
      "text/plain": [
       "Matrix([\n",
       "[1],\n",
       "[0],\n",
       "[1]])"
      ]
     },
     "metadata": {},
     "output_type": "display_data"
    },
    {
     "data": {
      "text/latex": [
       "$\\displaystyle \\gamma(0) = 1$"
      ],
      "text/plain": [
       "<IPython.core.display.Math object>"
      ]
     },
     "metadata": {},
     "output_type": "display_data"
    },
    {
     "data": {
      "text/latex": [
       "$\\displaystyle \\lambda_2 = 3:$"
      ],
      "text/plain": [
       "<IPython.core.display.Math object>"
      ]
     },
     "metadata": {},
     "output_type": "display_data"
    },
    {
     "data": {
      "text/latex": [
       "$\\displaystyle \\left[\\begin{matrix}-1 & -1 & -2\\\\-1 & 2 & 1\\\\-2 & 1 & -1\\end{matrix}\\right]$"
      ],
      "text/plain": [
       "Matrix([\n",
       "[-1, -1, -2],\n",
       "[-1,  2,  1],\n",
       "[-2,  1, -1]])"
      ]
     },
     "metadata": {},
     "output_type": "display_data"
    },
    {
     "data": {
      "text/markdown": [
       "Перейдем к улучшенному ступенчатому виду"
      ],
      "text/plain": [
       "<IPython.core.display.Markdown object>"
      ]
     },
     "metadata": {},
     "output_type": "display_data"
    },
    {
     "data": {
      "text/latex": [
       "$\\displaystyle \\left[\\begin{matrix}1 & 0 & 1\\\\0 & 1 & 1\\\\0 & 0 & 0\\end{matrix}\\right]$"
      ],
      "text/plain": [
       "Matrix([\n",
       "[1, 0, 1],\n",
       "[0, 1, 1],\n",
       "[0, 0, 0]])"
      ]
     },
     "metadata": {},
     "output_type": "display_data"
    },
    {
     "data": {
      "text/markdown": [
       "Т.о. собственное подпространство состоит из векторов: "
      ],
      "text/plain": [
       "<IPython.core.display.Markdown object>"
      ]
     },
     "metadata": {},
     "output_type": "display_data"
    },
    {
     "data": {
      "text/latex": [
       "$\\displaystyle \\left[\\begin{matrix}-1\\\\-1\\\\1\\end{matrix}\\right]$"
      ],
      "text/plain": [
       "Matrix([\n",
       "[-1],\n",
       "[-1],\n",
       "[ 1]])"
      ]
     },
     "metadata": {},
     "output_type": "display_data"
    },
    {
     "data": {
      "text/latex": [
       "$\\displaystyle \\gamma(3) = 1$"
      ],
      "text/plain": [
       "<IPython.core.display.Math object>"
      ]
     },
     "metadata": {},
     "output_type": "display_data"
    },
    {
     "data": {
      "text/latex": [
       "$\\displaystyle \\lambda_3 = 6:$"
      ],
      "text/plain": [
       "<IPython.core.display.Math object>"
      ]
     },
     "metadata": {},
     "output_type": "display_data"
    },
    {
     "data": {
      "text/latex": [
       "$\\displaystyle \\left[\\begin{matrix}-4 & -1 & -2\\\\-1 & -1 & 1\\\\-2 & 1 & -4\\end{matrix}\\right]$"
      ],
      "text/plain": [
       "Matrix([\n",
       "[-4, -1, -2],\n",
       "[-1, -1,  1],\n",
       "[-2,  1, -4]])"
      ]
     },
     "metadata": {},
     "output_type": "display_data"
    },
    {
     "data": {
      "text/markdown": [
       "Перейдем к улучшенному ступенчатому виду"
      ],
      "text/plain": [
       "<IPython.core.display.Markdown object>"
      ]
     },
     "metadata": {},
     "output_type": "display_data"
    },
    {
     "data": {
      "text/latex": [
       "$\\displaystyle \\left[\\begin{matrix}1 & 0 & 1\\\\0 & 1 & -2\\\\0 & 0 & 0\\end{matrix}\\right]$"
      ],
      "text/plain": [
       "Matrix([\n",
       "[1, 0,  1],\n",
       "[0, 1, -2],\n",
       "[0, 0,  0]])"
      ]
     },
     "metadata": {},
     "output_type": "display_data"
    },
    {
     "data": {
      "text/markdown": [
       "Т.о. собственное подпространство состоит из векторов: "
      ],
      "text/plain": [
       "<IPython.core.display.Markdown object>"
      ]
     },
     "metadata": {},
     "output_type": "display_data"
    },
    {
     "data": {
      "text/latex": [
       "$\\displaystyle \\left[\\begin{matrix}-1\\\\2\\\\1\\end{matrix}\\right]$"
      ],
      "text/plain": [
       "Matrix([\n",
       "[-1],\n",
       "[ 2],\n",
       "[ 1]])"
      ]
     },
     "metadata": {},
     "output_type": "display_data"
    },
    {
     "data": {
      "text/latex": [
       "$\\displaystyle \\gamma(6) = 1$"
      ],
      "text/plain": [
       "<IPython.core.display.Math object>"
      ]
     },
     "metadata": {},
     "output_type": "display_data"
    },
    {
     "data": {
      "text/markdown": [
       "Матрица диагонализуема, так как алгебраические кратности собственных векторов равны геометрическим"
      ],
      "text/plain": [
       "<IPython.core.display.Markdown object>"
      ]
     },
     "metadata": {},
     "output_type": "display_data"
    },
    {
     "data": {
      "text/markdown": [
       "Диагональный вид матрицы Q"
      ],
      "text/plain": [
       "<IPython.core.display.Markdown object>"
      ]
     },
     "metadata": {},
     "output_type": "display_data"
    },
    {
     "data": {
      "text/latex": [
       "$\\displaystyle \\left[\\begin{matrix}6.0 & 0 & 0\\\\0 & 3.0 & 0\\\\0 & 0 & 0\\end{matrix}\\right]$"
      ],
      "text/plain": [
       "Matrix([\n",
       "[6.0,   0, 0],\n",
       "[  0, 3.0, 0],\n",
       "[  0,   0, 0]])"
      ]
     },
     "metadata": {},
     "output_type": "display_data"
    },
    {
     "data": {
      "text/markdown": [
       "Матрица перехода C в базис, в котором достигается диагональный вид (hint D = C^-1 * A * C)"
      ],
      "text/plain": [
       "<IPython.core.display.Markdown object>"
      ]
     },
     "metadata": {},
     "output_type": "display_data"
    },
    {
     "data": {
      "text/latex": [
       "$\\displaystyle \\left[\\begin{matrix}-1 & -1 & 1\\\\2 & -1 & 0\\\\1 & 1 & 1\\end{matrix}\\right]$"
      ],
      "text/plain": [
       "Matrix([\n",
       "[-1, -1, 1],\n",
       "[ 2, -1, 0],\n",
       "[ 1,  1, 1]])"
      ]
     },
     "metadata": {},
     "output_type": "display_data"
    },
    {
     "data": {
      "text/plain": [
       "(Matrix([\n",
       " [6.0,   0, 0],\n",
       " [  0, 3.0, 0],\n",
       " [  0,   0, 0]]),\n",
       " Matrix([\n",
       " [-1, -1, 1],\n",
       " [ 2, -1, 0],\n",
       " [ 1,  1, 1]]),\n",
       " [<__main__.Eigenvector at 0x10c63c3a0>,\n",
       "  <__main__.Eigenvector at 0x10c893880>,\n",
       "  <__main__.Eigenvector at 0x105637190>])"
      ]
     },
     "execution_count": 19,
     "metadata": {},
     "output_type": "execute_result"
    }
   ],
   "source": [
    "def diagonalize_with_normalization(M: sp.Matrix, name: str = \"M\") -> (sp.Matrix or None, sp.Matrix or None, list):\n",
    "    M_eigenvectors = find_eigenvectors(M, name)\n",
    "\n",
    "    for eigenvector in M_eigenvectors:\n",
    "        if eigenvector.alpha != eigenvector.gamma:\n",
    "            display(Markdown(\"Матрица не диагонализуема, так как\"))\n",
    "            display(\n",
    "                Math(r\"\\alpha(\" + str(eigenvector.eigenvalue) + r\") \\neq \\gamma(\" + str(eigenvector.eigenvalue) + \")\"))\n",
    "            return None, None, M_eigenvectors\n",
    "\n",
    "    display(\n",
    "        Markdown(\"Матрица диагонализуема, так как алгебраические кратности собственных векторов равны геометрическим\"))\n",
    "\n",
    "    D = np.zeros(M.shape)\n",
    "    C = [0] * M.shape[0]\n",
    "    position = 0\n",
    "    for eigenvector in M_eigenvectors:\n",
    "        display(Markdown(\"Нормализуем вектор собственного значения \" + str(eigenvector.eigenvalue)))\n",
    "        for i in range(eigenvector.alpha):\n",
    "            D[position][position] = eigenvector.eigenvalue\n",
    "            C[position] = np.array(normalize(eigenvector.eigenspace[i].transpose()))[0]\n",
    "            position += 1\n",
    "\n",
    "    D = sp.Matrix(D)\n",
    "    C = np.array(C)\n",
    "    C = sp.Matrix(C.T)\n",
    "\n",
    "    display(Markdown(\"Диагональный вид матрицы \" + name))\n",
    "    display(D)\n",
    "    display(Markdown(\"Матрица перехода C в базис, в котором достигается диагональный вид (hint D = C^-1 * A * C)\"))\n",
    "    display(C)\n",
    "\n",
    "    return D, C, M_eigenvectors\n",
    "\n",
    "def diagonalize(M: sp.Matrix, name: str = \"M\") -> (sp.Matrix or None, sp.Matrix or None, list):\n",
    "    M_eigenvectors = find_eigenvectors(M, name)\n",
    "\n",
    "    for eigenvector in M_eigenvectors:\n",
    "        if eigenvector.alpha != eigenvector.gamma:\n",
    "            display(Markdown(\"Матрица не диагонализуема, так как\"))\n",
    "            display(\n",
    "                Math(r\"\\alpha(\" + str(eigenvector.eigenvalue) + r\") \\neq \\gamma(\" + str(eigenvector.eigenvalue) + \")\"))\n",
    "            return None, None, M_eigenvectors\n",
    "\n",
    "    display(\n",
    "        Markdown(\"Матрица диагонализуема, так как алгебраические кратности собственных векторов равны геометрическим\"))\n",
    "\n",
    "    D = np.zeros(M.shape)\n",
    "    C = [0] * M.shape[0]\n",
    "    position = 0\n",
    "    for eigenvector in M_eigenvectors:\n",
    "        for i in range(eigenvector.alpha):\n",
    "            D[position][position] = eigenvector.eigenvalue\n",
    "            C[position] = np.array(eigenvector.eigenspace[i].transpose())[0]\n",
    "            position += 1\n",
    "\n",
    "    D = sp.Matrix(D)\n",
    "    C = np.array(C)\n",
    "    C = sp.Matrix(C.T)\n",
    "\n",
    "    display(Markdown(\"Диагональный вид матрицы \" + name))\n",
    "    display(D)\n",
    "    display(Markdown(\"Матрица перехода C в базис, в котором достигается диагональный вид (hint D = C^-1 * A * C)\"))\n",
    "    display(C)\n",
    "\n",
    "    return D, C, M_eigenvectors\n",
    "\n",
    "\n",
    "diagonalize(sp.Matrix([\n",
    "    [2, -1, -2],\n",
    "    [-1, 5, 1],\n",
    "    [-2, 1, 2],\n",
    "]), \"Q\")"
   ]
  },
  {
   "cell_type": "markdown",
   "metadata": {},
   "source": [
    "## Приведение квадрики к каноническому виду"
   ]
  },
  {
   "cell_type": "code",
   "execution_count": null,
   "metadata": {},
   "outputs": [],
   "source": [
    "def quadric_to_canonical(M: sp.Matrix, A: sp.Matrix):\n",
    "    pass"
   ]
  },
  {
   "cell_type": "markdown",
   "metadata": {},
   "source": [
    "## Приведение ортогонального оператора 3x3 в канонический вид"
   ]
  },
  {
   "cell_type": "code",
   "execution_count": null,
   "metadata": {},
   "outputs": [],
   "source": []
  },
  {
   "cell_type": "markdown",
   "metadata": {},
   "source": [
    "## Сингулярное разложение"
   ]
  },
  {
   "cell_type": "code",
   "execution_count": 45,
   "metadata": {},
   "outputs": [
    {
     "data": {
      "text/latex": [
       "$\\displaystyle L = M \\cdot M^t = $"
      ],
      "text/plain": [
       "<IPython.core.display.Math object>"
      ]
     },
     "metadata": {},
     "output_type": "display_data"
    },
    {
     "data": {
      "text/latex": [
       "$\\displaystyle \\left[\\begin{matrix}8 & -4 & -10\\\\-4 & 20 & 14\\\\-10 & 14 & 17\\end{matrix}\\right]$"
      ],
      "text/plain": [
       "Matrix([\n",
       "[  8, -4, -10],\n",
       "[ -4, 20,  14],\n",
       "[-10, 14,  17]])"
      ]
     },
     "metadata": {},
     "output_type": "display_data"
    },
    {
     "data": {
      "text/markdown": [
       "## Посчитаем собственные вектора матрицы"
      ],
      "text/plain": [
       "<IPython.core.display.Markdown object>"
      ]
     },
     "metadata": {},
     "output_type": "display_data"
    },
    {
     "data": {
      "text/markdown": [
       "### Сначала найдем характеристический многочлен"
      ],
      "text/plain": [
       "<IPython.core.display.Markdown object>"
      ]
     },
     "metadata": {},
     "output_type": "display_data"
    },
    {
     "data": {
      "text/latex": [
       "$\\displaystyle L - \\lambda \\cdot E = $"
      ],
      "text/plain": [
       "<IPython.core.display.Math object>"
      ]
     },
     "metadata": {},
     "output_type": "display_data"
    },
    {
     "data": {
      "text/latex": [
       "$\\displaystyle \\left|{\\begin{matrix}8 - \\lambda & -4 & -10\\\\-4 & 20 - \\lambda & 14\\\\-10 & 14 & 17 - \\lambda\\end{matrix}}\\right|$"
      ],
      "text/plain": [
       "Determinant(Matrix([\n",
       "[8 - \\lambda,           -4,          -10],\n",
       "[         -4, 20 - \\lambda,           14],\n",
       "[        -10,           14, 17 - \\lambda]]))"
      ]
     },
     "metadata": {},
     "output_type": "display_data"
    },
    {
     "data": {
      "text/latex": [
       "$\\displaystyle - \\lambda^{3} + 45 \\lambda^{2} - 324 \\lambda$"
      ],
      "text/plain": [
       "-\\lambda**3 + 45*\\lambda**2 - 324*\\lambda"
      ]
     },
     "metadata": {},
     "output_type": "display_data"
    },
    {
     "data": {
      "text/markdown": [
       "### Найдем его корни и их алгебраические кратности"
      ],
      "text/plain": [
       "<IPython.core.display.Markdown object>"
      ]
     },
     "metadata": {},
     "output_type": "display_data"
    },
    {
     "data": {
      "text/latex": [
       "$\\displaystyle \\lambda_1 = 0, \\alpha(0) = 1$"
      ],
      "text/plain": [
       "<IPython.core.display.Math object>"
      ]
     },
     "metadata": {},
     "output_type": "display_data"
    },
    {
     "data": {
      "text/latex": [
       "$\\displaystyle \\lambda_2 = 9, \\alpha(9) = 1$"
      ],
      "text/plain": [
       "<IPython.core.display.Math object>"
      ]
     },
     "metadata": {},
     "output_type": "display_data"
    },
    {
     "data": {
      "text/latex": [
       "$\\displaystyle \\lambda_3 = 36, \\alpha(36) = 1$"
      ],
      "text/plain": [
       "<IPython.core.display.Math object>"
      ]
     },
     "metadata": {},
     "output_type": "display_data"
    },
    {
     "data": {
      "text/markdown": [
       "### Для каждого собственного значения найдем собственное подпространство"
      ],
      "text/plain": [
       "<IPython.core.display.Markdown object>"
      ]
     },
     "metadata": {},
     "output_type": "display_data"
    },
    {
     "data": {
      "text/latex": [
       "$\\displaystyle \\lambda_1 = 0:$"
      ],
      "text/plain": [
       "<IPython.core.display.Math object>"
      ]
     },
     "metadata": {},
     "output_type": "display_data"
    },
    {
     "data": {
      "text/latex": [
       "$\\displaystyle \\left[\\begin{matrix}8 & -4 & -10\\\\-4 & 20 & 14\\\\-10 & 14 & 17\\end{matrix}\\right]$"
      ],
      "text/plain": [
       "Matrix([\n",
       "[  8, -4, -10],\n",
       "[ -4, 20,  14],\n",
       "[-10, 14,  17]])"
      ]
     },
     "metadata": {},
     "output_type": "display_data"
    },
    {
     "data": {
      "text/markdown": [
       "Перейдем к улучшенному ступенчатому виду"
      ],
      "text/plain": [
       "<IPython.core.display.Markdown object>"
      ]
     },
     "metadata": {},
     "output_type": "display_data"
    },
    {
     "data": {
      "text/latex": [
       "$\\displaystyle \\left[\\begin{matrix}1 & 0 & -1\\\\0 & 1 & \\frac{1}{2}\\\\0 & 0 & 0\\end{matrix}\\right]$"
      ],
      "text/plain": [
       "Matrix([\n",
       "[1, 0,  -1],\n",
       "[0, 1, 1/2],\n",
       "[0, 0,   0]])"
      ]
     },
     "metadata": {},
     "output_type": "display_data"
    },
    {
     "data": {
      "text/markdown": [
       "Т.о. собственное подпространство состоит из векторов: "
      ],
      "text/plain": [
       "<IPython.core.display.Markdown object>"
      ]
     },
     "metadata": {},
     "output_type": "display_data"
    },
    {
     "data": {
      "text/latex": [
       "$\\displaystyle \\left[\\begin{matrix}1\\\\- \\frac{1}{2}\\\\1\\end{matrix}\\right]$"
      ],
      "text/plain": [
       "Matrix([\n",
       "[   1],\n",
       "[-1/2],\n",
       "[   1]])"
      ]
     },
     "metadata": {},
     "output_type": "display_data"
    },
    {
     "data": {
      "text/latex": [
       "$\\displaystyle \\gamma(0) = 1$"
      ],
      "text/plain": [
       "<IPython.core.display.Math object>"
      ]
     },
     "metadata": {},
     "output_type": "display_data"
    },
    {
     "data": {
      "text/latex": [
       "$\\displaystyle \\lambda_2 = 9:$"
      ],
      "text/plain": [
       "<IPython.core.display.Math object>"
      ]
     },
     "metadata": {},
     "output_type": "display_data"
    },
    {
     "data": {
      "text/latex": [
       "$\\displaystyle \\left[\\begin{matrix}-1 & -4 & -10\\\\-4 & 11 & 14\\\\-10 & 14 & 8\\end{matrix}\\right]$"
      ],
      "text/plain": [
       "Matrix([\n",
       "[ -1, -4, -10],\n",
       "[ -4, 11,  14],\n",
       "[-10, 14,   8]])"
      ]
     },
     "metadata": {},
     "output_type": "display_data"
    },
    {
     "data": {
      "text/markdown": [
       "Перейдем к улучшенному ступенчатому виду"
      ],
      "text/plain": [
       "<IPython.core.display.Markdown object>"
      ]
     },
     "metadata": {},
     "output_type": "display_data"
    },
    {
     "data": {
      "text/latex": [
       "$\\displaystyle \\left[\\begin{matrix}1 & 0 & 2\\\\0 & 1 & 2\\\\0 & 0 & 0\\end{matrix}\\right]$"
      ],
      "text/plain": [
       "Matrix([\n",
       "[1, 0, 2],\n",
       "[0, 1, 2],\n",
       "[0, 0, 0]])"
      ]
     },
     "metadata": {},
     "output_type": "display_data"
    },
    {
     "data": {
      "text/markdown": [
       "Т.о. собственное подпространство состоит из векторов: "
      ],
      "text/plain": [
       "<IPython.core.display.Markdown object>"
      ]
     },
     "metadata": {},
     "output_type": "display_data"
    },
    {
     "data": {
      "text/latex": [
       "$\\displaystyle \\left[\\begin{matrix}-2\\\\-2\\\\1\\end{matrix}\\right]$"
      ],
      "text/plain": [
       "Matrix([\n",
       "[-2],\n",
       "[-2],\n",
       "[ 1]])"
      ]
     },
     "metadata": {},
     "output_type": "display_data"
    },
    {
     "data": {
      "text/latex": [
       "$\\displaystyle \\gamma(9) = 1$"
      ],
      "text/plain": [
       "<IPython.core.display.Math object>"
      ]
     },
     "metadata": {},
     "output_type": "display_data"
    },
    {
     "data": {
      "text/latex": [
       "$\\displaystyle \\lambda_3 = 36:$"
      ],
      "text/plain": [
       "<IPython.core.display.Math object>"
      ]
     },
     "metadata": {},
     "output_type": "display_data"
    },
    {
     "data": {
      "text/latex": [
       "$\\displaystyle \\left[\\begin{matrix}-28 & -4 & -10\\\\-4 & -16 & 14\\\\-10 & 14 & -19\\end{matrix}\\right]$"
      ],
      "text/plain": [
       "Matrix([\n",
       "[-28,  -4, -10],\n",
       "[ -4, -16,  14],\n",
       "[-10,  14, -19]])"
      ]
     },
     "metadata": {},
     "output_type": "display_data"
    },
    {
     "data": {
      "text/markdown": [
       "Перейдем к улучшенному ступенчатому виду"
      ],
      "text/plain": [
       "<IPython.core.display.Markdown object>"
      ]
     },
     "metadata": {},
     "output_type": "display_data"
    },
    {
     "data": {
      "text/latex": [
       "$\\displaystyle \\left[\\begin{matrix}1 & 0 & \\frac{1}{2}\\\\0 & 1 & -1\\\\0 & 0 & 0\\end{matrix}\\right]$"
      ],
      "text/plain": [
       "Matrix([\n",
       "[1, 0, 1/2],\n",
       "[0, 1,  -1],\n",
       "[0, 0,   0]])"
      ]
     },
     "metadata": {},
     "output_type": "display_data"
    },
    {
     "data": {
      "text/markdown": [
       "Т.о. собственное подпространство состоит из векторов: "
      ],
      "text/plain": [
       "<IPython.core.display.Markdown object>"
      ]
     },
     "metadata": {},
     "output_type": "display_data"
    },
    {
     "data": {
      "text/latex": [
       "$\\displaystyle \\left[\\begin{matrix}- \\frac{1}{2}\\\\1\\\\1\\end{matrix}\\right]$"
      ],
      "text/plain": [
       "Matrix([\n",
       "[-1/2],\n",
       "[   1],\n",
       "[   1]])"
      ]
     },
     "metadata": {},
     "output_type": "display_data"
    },
    {
     "data": {
      "text/latex": [
       "$\\displaystyle \\gamma(36) = 1$"
      ],
      "text/plain": [
       "<IPython.core.display.Math object>"
      ]
     },
     "metadata": {},
     "output_type": "display_data"
    },
    {
     "data": {
      "text/markdown": [
       "Матрица диагонализуема, так как алгебраические кратности собственных векторов равны геометрическим"
      ],
      "text/plain": [
       "<IPython.core.display.Markdown object>"
      ]
     },
     "metadata": {},
     "output_type": "display_data"
    },
    {
     "data": {
      "text/markdown": [
       "Нормализуем вектор собственного значения 0"
      ],
      "text/plain": [
       "<IPython.core.display.Markdown object>"
      ]
     },
     "metadata": {},
     "output_type": "display_data"
    },
    {
     "data": {
      "text/latex": [
       "$\\displaystyle \\left[\\begin{matrix}\\frac{2}{3} & - \\frac{1}{3} & \\frac{2}{3}\\end{matrix}\\right]$"
      ],
      "text/plain": [
       "Matrix([[2/3, -1/3, 2/3]])"
      ]
     },
     "metadata": {},
     "output_type": "display_data"
    },
    {
     "data": {
      "text/markdown": [
       "Нормализуем вектор собственного значения 9"
      ],
      "text/plain": [
       "<IPython.core.display.Markdown object>"
      ]
     },
     "metadata": {},
     "output_type": "display_data"
    },
    {
     "data": {
      "text/latex": [
       "$\\displaystyle \\left[\\begin{matrix}- \\frac{2}{3} & - \\frac{2}{3} & \\frac{1}{3}\\end{matrix}\\right]$"
      ],
      "text/plain": [
       "Matrix([[-2/3, -2/3, 1/3]])"
      ]
     },
     "metadata": {},
     "output_type": "display_data"
    },
    {
     "data": {
      "text/markdown": [
       "Нормализуем вектор собственного значения 36"
      ],
      "text/plain": [
       "<IPython.core.display.Markdown object>"
      ]
     },
     "metadata": {},
     "output_type": "display_data"
    },
    {
     "data": {
      "text/latex": [
       "$\\displaystyle \\left[\\begin{matrix}- \\frac{1}{3} & \\frac{2}{3} & \\frac{2}{3}\\end{matrix}\\right]$"
      ],
      "text/plain": [
       "Matrix([[-1/3, 2/3, 2/3]])"
      ]
     },
     "metadata": {},
     "output_type": "display_data"
    },
    {
     "data": {
      "text/markdown": [
       "Диагональный вид матрицы L"
      ],
      "text/plain": [
       "<IPython.core.display.Markdown object>"
      ]
     },
     "metadata": {},
     "output_type": "display_data"
    },
    {
     "data": {
      "text/latex": [
       "$\\displaystyle \\left[\\begin{matrix}0 & 0 & 0\\\\0 & 9.0 & 0\\\\0 & 0 & 36.0\\end{matrix}\\right]$"
      ],
      "text/plain": [
       "Matrix([\n",
       "[0,   0,    0],\n",
       "[0, 9.0,    0],\n",
       "[0,   0, 36.0]])"
      ]
     },
     "metadata": {},
     "output_type": "display_data"
    },
    {
     "data": {
      "text/markdown": [
       "Матрица перехода C в базис, в котором достигается диагональный вид (hint D = C^-1 * A * C)"
      ],
      "text/plain": [
       "<IPython.core.display.Markdown object>"
      ]
     },
     "metadata": {},
     "output_type": "display_data"
    },
    {
     "data": {
      "text/latex": [
       "$\\displaystyle \\left[\\begin{matrix}\\frac{2}{3} & - \\frac{2}{3} & - \\frac{1}{3}\\\\- \\frac{1}{3} & - \\frac{2}{3} & \\frac{2}{3}\\\\\\frac{2}{3} & \\frac{1}{3} & \\frac{2}{3}\\end{matrix}\\right]$"
      ],
      "text/plain": [
       "Matrix([\n",
       "[ 2/3, -2/3, -1/3],\n",
       "[-1/3, -2/3,  2/3],\n",
       "[ 2/3,  1/3,  2/3]])"
      ]
     },
     "metadata": {},
     "output_type": "display_data"
    },
    {
     "data": {
      "text/markdown": [
       "Она же и будет матрицей V сингулярного разложения"
      ],
      "text/plain": [
       "<IPython.core.display.Markdown object>"
      ]
     },
     "metadata": {},
     "output_type": "display_data"
    },
    {
     "name": "stdout",
     "output_type": "stream",
     "text": [
      "---------------\n"
     ]
    },
    {
     "data": {
      "text/latex": [
       "$\\displaystyle R = M^t \\cdot M = $"
      ],
      "text/plain": [
       "<IPython.core.display.Math object>"
      ]
     },
     "metadata": {},
     "output_type": "display_data"
    },
    {
     "data": {
      "text/latex": [
       "$\\displaystyle \\left[\\begin{matrix}17 & -10 & 14\\\\-10 & 8 & -4\\\\14 & -4 & 20\\end{matrix}\\right]$"
      ],
      "text/plain": [
       "Matrix([\n",
       "[ 17, -10, 14],\n",
       "[-10,   8, -4],\n",
       "[ 14,  -4, 20]])"
      ]
     },
     "metadata": {},
     "output_type": "display_data"
    },
    {
     "data": {
      "text/markdown": [
       "## Посчитаем собственные вектора матрицы"
      ],
      "text/plain": [
       "<IPython.core.display.Markdown object>"
      ]
     },
     "metadata": {},
     "output_type": "display_data"
    },
    {
     "data": {
      "text/markdown": [
       "### Сначала найдем характеристический многочлен"
      ],
      "text/plain": [
       "<IPython.core.display.Markdown object>"
      ]
     },
     "metadata": {},
     "output_type": "display_data"
    },
    {
     "data": {
      "text/latex": [
       "$\\displaystyle R - \\lambda \\cdot E = $"
      ],
      "text/plain": [
       "<IPython.core.display.Math object>"
      ]
     },
     "metadata": {},
     "output_type": "display_data"
    },
    {
     "data": {
      "text/latex": [
       "$\\displaystyle \\left|{\\begin{matrix}17 - \\lambda & -10 & 14\\\\-10 & 8 - \\lambda & -4\\\\14 & -4 & 20 - \\lambda\\end{matrix}}\\right|$"
      ],
      "text/plain": [
       "Determinant(Matrix([\n",
       "[17 - \\lambda,         -10,           14],\n",
       "[         -10, 8 - \\lambda,           -4],\n",
       "[          14,          -4, 20 - \\lambda]]))"
      ]
     },
     "metadata": {},
     "output_type": "display_data"
    },
    {
     "data": {
      "text/latex": [
       "$\\displaystyle - \\lambda^{3} + 45 \\lambda^{2} - 324 \\lambda$"
      ],
      "text/plain": [
       "-\\lambda**3 + 45*\\lambda**2 - 324*\\lambda"
      ]
     },
     "metadata": {},
     "output_type": "display_data"
    },
    {
     "data": {
      "text/markdown": [
       "### Найдем его корни и их алгебраические кратности"
      ],
      "text/plain": [
       "<IPython.core.display.Markdown object>"
      ]
     },
     "metadata": {},
     "output_type": "display_data"
    },
    {
     "data": {
      "text/latex": [
       "$\\displaystyle \\lambda_1 = 0, \\alpha(0) = 1$"
      ],
      "text/plain": [
       "<IPython.core.display.Math object>"
      ]
     },
     "metadata": {},
     "output_type": "display_data"
    },
    {
     "data": {
      "text/latex": [
       "$\\displaystyle \\lambda_2 = 9, \\alpha(9) = 1$"
      ],
      "text/plain": [
       "<IPython.core.display.Math object>"
      ]
     },
     "metadata": {},
     "output_type": "display_data"
    },
    {
     "data": {
      "text/latex": [
       "$\\displaystyle \\lambda_3 = 36, \\alpha(36) = 1$"
      ],
      "text/plain": [
       "<IPython.core.display.Math object>"
      ]
     },
     "metadata": {},
     "output_type": "display_data"
    },
    {
     "data": {
      "text/markdown": [
       "### Для каждого собственного значения найдем собственное подпространство"
      ],
      "text/plain": [
       "<IPython.core.display.Markdown object>"
      ]
     },
     "metadata": {},
     "output_type": "display_data"
    },
    {
     "data": {
      "text/latex": [
       "$\\displaystyle \\lambda_1 = 0:$"
      ],
      "text/plain": [
       "<IPython.core.display.Math object>"
      ]
     },
     "metadata": {},
     "output_type": "display_data"
    },
    {
     "data": {
      "text/latex": [
       "$\\displaystyle \\left[\\begin{matrix}17 & -10 & 14\\\\-10 & 8 & -4\\\\14 & -4 & 20\\end{matrix}\\right]$"
      ],
      "text/plain": [
       "Matrix([\n",
       "[ 17, -10, 14],\n",
       "[-10,   8, -4],\n",
       "[ 14,  -4, 20]])"
      ]
     },
     "metadata": {},
     "output_type": "display_data"
    },
    {
     "data": {
      "text/markdown": [
       "Перейдем к улучшенному ступенчатому виду"
      ],
      "text/plain": [
       "<IPython.core.display.Markdown object>"
      ]
     },
     "metadata": {},
     "output_type": "display_data"
    },
    {
     "data": {
      "text/latex": [
       "$\\displaystyle \\left[\\begin{matrix}1 & 0 & 2\\\\0 & 1 & 2\\\\0 & 0 & 0\\end{matrix}\\right]$"
      ],
      "text/plain": [
       "Matrix([\n",
       "[1, 0, 2],\n",
       "[0, 1, 2],\n",
       "[0, 0, 0]])"
      ]
     },
     "metadata": {},
     "output_type": "display_data"
    },
    {
     "data": {
      "text/markdown": [
       "Т.о. собственное подпространство состоит из векторов: "
      ],
      "text/plain": [
       "<IPython.core.display.Markdown object>"
      ]
     },
     "metadata": {},
     "output_type": "display_data"
    },
    {
     "data": {
      "text/latex": [
       "$\\displaystyle \\left[\\begin{matrix}-2\\\\-2\\\\1\\end{matrix}\\right]$"
      ],
      "text/plain": [
       "Matrix([\n",
       "[-2],\n",
       "[-2],\n",
       "[ 1]])"
      ]
     },
     "metadata": {},
     "output_type": "display_data"
    },
    {
     "data": {
      "text/latex": [
       "$\\displaystyle \\gamma(0) = 1$"
      ],
      "text/plain": [
       "<IPython.core.display.Math object>"
      ]
     },
     "metadata": {},
     "output_type": "display_data"
    },
    {
     "data": {
      "text/latex": [
       "$\\displaystyle \\lambda_2 = 9:$"
      ],
      "text/plain": [
       "<IPython.core.display.Math object>"
      ]
     },
     "metadata": {},
     "output_type": "display_data"
    },
    {
     "data": {
      "text/latex": [
       "$\\displaystyle \\left[\\begin{matrix}8 & -10 & 14\\\\-10 & -1 & -4\\\\14 & -4 & 11\\end{matrix}\\right]$"
      ],
      "text/plain": [
       "Matrix([\n",
       "[  8, -10, 14],\n",
       "[-10,  -1, -4],\n",
       "[ 14,  -4, 11]])"
      ]
     },
     "metadata": {},
     "output_type": "display_data"
    },
    {
     "data": {
      "text/markdown": [
       "Перейдем к улучшенному ступенчатому виду"
      ],
      "text/plain": [
       "<IPython.core.display.Markdown object>"
      ]
     },
     "metadata": {},
     "output_type": "display_data"
    },
    {
     "data": {
      "text/latex": [
       "$\\displaystyle \\left[\\begin{matrix}1 & 0 & \\frac{1}{2}\\\\0 & 1 & -1\\\\0 & 0 & 0\\end{matrix}\\right]$"
      ],
      "text/plain": [
       "Matrix([\n",
       "[1, 0, 1/2],\n",
       "[0, 1,  -1],\n",
       "[0, 0,   0]])"
      ]
     },
     "metadata": {},
     "output_type": "display_data"
    },
    {
     "data": {
      "text/markdown": [
       "Т.о. собственное подпространство состоит из векторов: "
      ],
      "text/plain": [
       "<IPython.core.display.Markdown object>"
      ]
     },
     "metadata": {},
     "output_type": "display_data"
    },
    {
     "data": {
      "text/latex": [
       "$\\displaystyle \\left[\\begin{matrix}- \\frac{1}{2}\\\\1\\\\1\\end{matrix}\\right]$"
      ],
      "text/plain": [
       "Matrix([\n",
       "[-1/2],\n",
       "[   1],\n",
       "[   1]])"
      ]
     },
     "metadata": {},
     "output_type": "display_data"
    },
    {
     "data": {
      "text/latex": [
       "$\\displaystyle \\gamma(9) = 1$"
      ],
      "text/plain": [
       "<IPython.core.display.Math object>"
      ]
     },
     "metadata": {},
     "output_type": "display_data"
    },
    {
     "data": {
      "text/latex": [
       "$\\displaystyle \\lambda_3 = 36:$"
      ],
      "text/plain": [
       "<IPython.core.display.Math object>"
      ]
     },
     "metadata": {},
     "output_type": "display_data"
    },
    {
     "data": {
      "text/latex": [
       "$\\displaystyle \\left[\\begin{matrix}-19 & -10 & 14\\\\-10 & -28 & -4\\\\14 & -4 & -16\\end{matrix}\\right]$"
      ],
      "text/plain": [
       "Matrix([\n",
       "[-19, -10,  14],\n",
       "[-10, -28,  -4],\n",
       "[ 14,  -4, -16]])"
      ]
     },
     "metadata": {},
     "output_type": "display_data"
    },
    {
     "data": {
      "text/markdown": [
       "Перейдем к улучшенному ступенчатому виду"
      ],
      "text/plain": [
       "<IPython.core.display.Markdown object>"
      ]
     },
     "metadata": {},
     "output_type": "display_data"
    },
    {
     "data": {
      "text/latex": [
       "$\\displaystyle \\left[\\begin{matrix}1 & 0 & -1\\\\0 & 1 & \\frac{1}{2}\\\\0 & 0 & 0\\end{matrix}\\right]$"
      ],
      "text/plain": [
       "Matrix([\n",
       "[1, 0,  -1],\n",
       "[0, 1, 1/2],\n",
       "[0, 0,   0]])"
      ]
     },
     "metadata": {},
     "output_type": "display_data"
    },
    {
     "data": {
      "text/markdown": [
       "Т.о. собственное подпространство состоит из векторов: "
      ],
      "text/plain": [
       "<IPython.core.display.Markdown object>"
      ]
     },
     "metadata": {},
     "output_type": "display_data"
    },
    {
     "data": {
      "text/latex": [
       "$\\displaystyle \\left[\\begin{matrix}1\\\\- \\frac{1}{2}\\\\1\\end{matrix}\\right]$"
      ],
      "text/plain": [
       "Matrix([\n",
       "[   1],\n",
       "[-1/2],\n",
       "[   1]])"
      ]
     },
     "metadata": {},
     "output_type": "display_data"
    },
    {
     "data": {
      "text/latex": [
       "$\\displaystyle \\gamma(36) = 1$"
      ],
      "text/plain": [
       "<IPython.core.display.Math object>"
      ]
     },
     "metadata": {},
     "output_type": "display_data"
    },
    {
     "data": {
      "text/markdown": [
       "Матрица диагонализуема, так как алгебраические кратности собственных векторов равны геометрическим"
      ],
      "text/plain": [
       "<IPython.core.display.Markdown object>"
      ]
     },
     "metadata": {},
     "output_type": "display_data"
    },
    {
     "data": {
      "text/markdown": [
       "Нормализуем вектор собственного значения 0"
      ],
      "text/plain": [
       "<IPython.core.display.Markdown object>"
      ]
     },
     "metadata": {},
     "output_type": "display_data"
    },
    {
     "data": {
      "text/latex": [
       "$\\displaystyle \\left[\\begin{matrix}- \\frac{2}{3} & - \\frac{2}{3} & \\frac{1}{3}\\end{matrix}\\right]$"
      ],
      "text/plain": [
       "Matrix([[-2/3, -2/3, 1/3]])"
      ]
     },
     "metadata": {},
     "output_type": "display_data"
    },
    {
     "data": {
      "text/markdown": [
       "Нормализуем вектор собственного значения 9"
      ],
      "text/plain": [
       "<IPython.core.display.Markdown object>"
      ]
     },
     "metadata": {},
     "output_type": "display_data"
    },
    {
     "data": {
      "text/latex": [
       "$\\displaystyle \\left[\\begin{matrix}- \\frac{1}{3} & \\frac{2}{3} & \\frac{2}{3}\\end{matrix}\\right]$"
      ],
      "text/plain": [
       "Matrix([[-1/3, 2/3, 2/3]])"
      ]
     },
     "metadata": {},
     "output_type": "display_data"
    },
    {
     "data": {
      "text/markdown": [
       "Нормализуем вектор собственного значения 36"
      ],
      "text/plain": [
       "<IPython.core.display.Markdown object>"
      ]
     },
     "metadata": {},
     "output_type": "display_data"
    },
    {
     "data": {
      "text/latex": [
       "$\\displaystyle \\left[\\begin{matrix}\\frac{2}{3} & - \\frac{1}{3} & \\frac{2}{3}\\end{matrix}\\right]$"
      ],
      "text/plain": [
       "Matrix([[2/3, -1/3, 2/3]])"
      ]
     },
     "metadata": {},
     "output_type": "display_data"
    },
    {
     "data": {
      "text/markdown": [
       "Диагональный вид матрицы R"
      ],
      "text/plain": [
       "<IPython.core.display.Markdown object>"
      ]
     },
     "metadata": {},
     "output_type": "display_data"
    },
    {
     "data": {
      "text/latex": [
       "$\\displaystyle \\left[\\begin{matrix}0 & 0 & 0\\\\0 & 9.0 & 0\\\\0 & 0 & 36.0\\end{matrix}\\right]$"
      ],
      "text/plain": [
       "Matrix([\n",
       "[0,   0,    0],\n",
       "[0, 9.0,    0],\n",
       "[0,   0, 36.0]])"
      ]
     },
     "metadata": {},
     "output_type": "display_data"
    },
    {
     "data": {
      "text/markdown": [
       "Матрица перехода C в базис, в котором достигается диагональный вид (hint D = C^-1 * A * C)"
      ],
      "text/plain": [
       "<IPython.core.display.Markdown object>"
      ]
     },
     "metadata": {},
     "output_type": "display_data"
    },
    {
     "data": {
      "text/latex": [
       "$\\displaystyle \\left[\\begin{matrix}- \\frac{2}{3} & - \\frac{1}{3} & \\frac{2}{3}\\\\- \\frac{2}{3} & \\frac{2}{3} & - \\frac{1}{3}\\\\\\frac{1}{3} & \\frac{2}{3} & \\frac{2}{3}\\end{matrix}\\right]$"
      ],
      "text/plain": [
       "Matrix([\n",
       "[-2/3, -1/3,  2/3],\n",
       "[-2/3,  2/3, -1/3],\n",
       "[ 1/3,  2/3,  2/3]])"
      ]
     },
     "metadata": {},
     "output_type": "display_data"
    },
    {
     "data": {
      "text/markdown": [
       "Если ее транспонировать, она и будет матрицей U сингулярного разложения"
      ],
      "text/plain": [
       "<IPython.core.display.Markdown object>"
      ]
     },
     "metadata": {},
     "output_type": "display_data"
    },
    {
     "data": {
      "text/latex": [
       "$\\displaystyle \\left[\\begin{matrix}- \\frac{2}{3} & - \\frac{2}{3} & \\frac{1}{3}\\\\- \\frac{1}{3} & \\frac{2}{3} & \\frac{2}{3}\\\\\\frac{2}{3} & - \\frac{1}{3} & \\frac{2}{3}\\end{matrix}\\right]$"
      ],
      "text/plain": [
       "Matrix([\n",
       "[-2/3, -2/3, 1/3],\n",
       "[-1/3,  2/3, 2/3],\n",
       "[ 2/3, -1/3, 2/3]])"
      ]
     },
     "metadata": {},
     "output_type": "display_data"
    },
    {
     "name": "stdout",
     "output_type": "stream",
     "text": [
      "---------------\n"
     ]
    },
    {
     "data": {
      "text/markdown": [
       "Найдем сингулярные числа матрицы"
      ],
      "text/plain": [
       "<IPython.core.display.Markdown object>"
      ]
     },
     "metadata": {},
     "output_type": "display_data"
    },
    {
     "data": {
      "text/latex": [
       "$\\displaystyle \\delta_0 = \\sqrt(0) = 0$"
      ],
      "text/plain": [
       "<IPython.core.display.Math object>"
      ]
     },
     "metadata": {},
     "output_type": "display_data"
    },
    {
     "data": {
      "text/latex": [
       "$\\displaystyle \\delta_1 = \\sqrt(9) = 3$"
      ],
      "text/plain": [
       "<IPython.core.display.Math object>"
      ]
     },
     "metadata": {},
     "output_type": "display_data"
    },
    {
     "data": {
      "text/latex": [
       "$\\displaystyle \\delta_2 = \\sqrt(36) = 6$"
      ],
      "text/plain": [
       "<IPython.core.display.Math object>"
      ]
     },
     "metadata": {},
     "output_type": "display_data"
    },
    {
     "data": {
      "text/markdown": [
       "Таким образом матрица Σ = "
      ],
      "text/plain": [
       "<IPython.core.display.Markdown object>"
      ]
     },
     "metadata": {},
     "output_type": "display_data"
    },
    {
     "data": {
      "text/latex": [
       "$\\displaystyle \\left[\\begin{matrix}6.0 & 0 & 0\\\\0 & 3.0 & 0\\\\0 & 0 & 0\\end{matrix}\\right]$"
      ],
      "text/plain": [
       "Matrix([\n",
       "[6.0,   0, 0],\n",
       "[  0, 3.0, 0],\n",
       "[  0,   0, 0]])"
      ]
     },
     "metadata": {},
     "output_type": "display_data"
    },
    {
     "data": {
      "text/plain": [
       "(Matrix([\n",
       " [ 2/3, -2/3, -1/3],\n",
       " [-1/3, -2/3,  2/3],\n",
       " [ 2/3,  1/3,  2/3]]),\n",
       " Matrix([\n",
       " [6.0,   0, 0],\n",
       " [  0, 3.0, 0],\n",
       " [  0,   0, 0]]),\n",
       " Matrix([\n",
       " [-2/3, -2/3, 1/3],\n",
       " [-1/3,  2/3, 2/3],\n",
       " [ 2/3, -1/3, 2/3]]))"
      ]
     },
     "execution_count": 45,
     "metadata": {},
     "output_type": "execute_result"
    }
   ],
   "source": [
    "def svd(M: sp.Matrix, name: str = \"M\") -> (sp.Matrix, sp.Matrix, sp.Matrix):\n",
    "    L = M * M.transpose()\n",
    "    display(Math(\"L = \" + name + r\" \\cdot \" + name + \"^t = \"))\n",
    "    display(L)\n",
    "    _, V, L_eigenvectors = diagonalize_with_normalization(L, \"L\")\n",
    "    display(Markdown(\"Она же и будет матрицей V сингулярного разложения\"))\n",
    "    \n",
    "    print(\"---------------\")\n",
    "    \n",
    "    R = M.transpose() * M\n",
    "    display(Math(\"R = \" + name + r\"^t \\cdot \" + name + \" = \"))\n",
    "    display(R)\n",
    "    _, U, R_eigenvectors = diagonalize_with_normalization(R, \"R\")\n",
    "    display(Markdown(\"Если ее транспонировать, она и будет матрицей U сингулярного разложения\"))\n",
    "    U = U.transpose()\n",
    "    display(U)\n",
    "    \n",
    "    print(\"---------------\")\n",
    "    \n",
    "    display(Markdown(\"Найдем сингулярные числа матрицы\"))\n",
    "    common_eigenvectors = np.concatenate([L_eigenvectors, R_eigenvectors])\n",
    "    common_eigenvectors = np.unique(common_eigenvectors)\n",
    "    \n",
    "    singular_values = []\n",
    "    for i in range(len(common_eigenvectors)):\n",
    "        eigenvalue = common_eigenvectors[i].eigenvalue\n",
    "        singular_value = sp.sqrt(eigenvalue)\n",
    "        display(Math(\"\\delta_\" + str(i) + \" = \\sqrt(\" + str(eigenvalue) + \") = \" + str(singular_value.simplify())))\n",
    "        singular_values.append(singular_value)\n",
    "    singular_values.reverse()\n",
    "    \n",
    "    display(Markdown(\"Таким образом матрица Σ = \"))\n",
    "    S = np.zeros(M.shape)\n",
    "    for i in range(len(singular_values)):\n",
    "        S[i][i] = singular_values[i]\n",
    "    S = sp.Matrix(S)\n",
    "    display(S)\n",
    "    \n",
    "    return V, S, U\n",
    "        \n",
    "\n",
    "svd(sp.Matrix([\n",
    "    [-2, 2, 0],\n",
    "    [2, 0, 4],\n",
    "    [3, -2, 2]\n",
    "]))"
   ]
  },
  {
   "cell_type": "markdown",
   "metadata": {},
   "source": [
    "## Ранговое приближение"
   ]
  },
  {
   "cell_type": "code",
   "execution_count": null,
   "metadata": {},
   "outputs": [],
   "source": [
    "def rank_approximation(M: sp.Matrix, rank, name: str = \"M\"):\n",
    "    display(Markdown(\"Посчитаем сингулярное разложение\"))\n",
    "    \n",
    "    V, S, U = svd(M, name)\n",
    "    \n",
    "    display(Markdown(\"Уберем из Σ все сингулярные значение i > \" + rank))\n",
    "    \n",
    "    S_new = np.zeros(S.shape)\n",
    "    \n",
    "\n",
    "rank_approximation(sp.Matrix([\n",
    "    [-2, 2, 0],\n",
    "    [2, 0, 4],\n",
    "    [3, -2, 2]\n",
    "]), 1)"
   ]
  },
  {
   "cell_type": "markdown",
   "metadata": {},
   "source": [
    "# Ортогонализация Грама-Шмидта"
   ]
  },
  {
   "cell_type": "code",
   "execution_count": 31,
   "metadata": {
    "pycharm": {
     "name": "#%%\n"
    }
   },
   "outputs": [],
   "source": [
    "def normalize(vector: sp.Matrix) -> sp.Expr:\n",
    "    norm = sp.sqrt(vector.transpose().dot(vector))\n",
    "    vector_normalized = vector / norm\n",
    "    return vector_normalized"
   ]
  },
  {
   "cell_type": "code",
   "execution_count": 36,
   "metadata": {
    "pycharm": {
     "name": "#%%\n"
    }
   },
   "outputs": [],
   "source": [
    "def matrix_normalize(vectors: list[sp.Matrix]):\n",
    "    result = []\n",
    "    for vector in vectors:\n",
    "        result.append(normalize(vector))\n",
    "    return result"
   ]
  },
  {
   "cell_type": "code",
   "execution_count": 8,
   "metadata": {
    "pycharm": {
     "name": "#%%\n"
    }
   },
   "outputs": [],
   "source": [
    "def get_proj_formula(v1_name: str, v2_name: str) -> str:\n",
    "    return '\\\\textit{proj}_{\\\\mathbf{' + v2_name + '}}\\\\mathbf{' + v1_name + '}'"
   ]
  },
  {
   "cell_type": "code",
   "execution_count": 9,
   "metadata": {
    "pycharm": {
     "name": "#%%\n"
    }
   },
   "outputs": [],
   "source": [
    "def scalar_product(v1: sp.Matrix, v2: sp.Matrix, v1_name: str = \"a\", v2_name: str = \"b\") -> int:\n",
    "    result = v1.dot(v2.T)\n",
    "\n",
    "    # Формула скалярного произведения\n",
    "    formula = '\\\\langle\\\\mathbf{' + v1_name + '} ,\\\\mathbf{' + v2_name + '}\\\\rangle = '\n",
    "    for i in range(len(v1) - 1):\n",
    "        formula += str(v1[i]) + \"\\\\cdot\" + str(v2[i]) + \" + \"\n",
    "    formula += str(v1[-1]) + \"\\\\cdot\" + str(v2[-1]) + \" = \" + str(result)\n",
    "\n",
    "    display(Math(formula))\n",
    "\n",
    "    return result"
   ]
  },
  {
   "cell_type": "code",
   "execution_count": 10,
   "metadata": {
    "pycharm": {
     "name": "#%%\n"
    }
   },
   "outputs": [
    {
     "data": {
      "text/markdown": [
       "#### Посчитаем проекцию a на b"
      ],
      "text/plain": [
       "<IPython.core.display.Markdown object>"
      ]
     },
     "metadata": {},
     "output_type": "display_data"
    },
    {
     "data": {
      "text/latex": [
       "$\\displaystyle \\langle\\mathbf{a} ,\\mathbf{b}\\rangle = 1\\cdot4 + 2\\cdot5 + 3\\cdot6 = 32$"
      ],
      "text/plain": [
       "<IPython.core.display.Math object>"
      ]
     },
     "metadata": {},
     "output_type": "display_data"
    },
    {
     "data": {
      "text/latex": [
       "$\\displaystyle \\langle\\mathbf{b} ,\\mathbf{b}\\rangle = 4\\cdot4 + 5\\cdot5 + 6\\cdot6 = 77$"
      ],
      "text/plain": [
       "<IPython.core.display.Math object>"
      ]
     },
     "metadata": {},
     "output_type": "display_data"
    },
    {
     "data": {
      "text/latex": [
       "$\\displaystyle \\textit{proj}_{\\mathbf{b}}\\mathbf{a} = \\frac{\\langle\\mathbf{a} ,\\mathbf{b}\\rangle}{\\lVert{\\mathbf{b}}^2\\rVert} \\mathbf{b} = \\frac{32}{77} \\mathbf{\\left[\\begin{matrix}4\\\\5\\\\6\\end{matrix}\\right]} = \\left[\\begin{matrix}\\frac{128}{77}\\\\\\frac{160}{77}\\\\\\frac{192}{77}\\end{matrix}\\right]$"
      ],
      "text/plain": [
       "<IPython.core.display.Math object>"
      ]
     },
     "metadata": {},
     "output_type": "display_data"
    },
    {
     "data": {
      "text/latex": [
       "$\\displaystyle \\left[\\begin{matrix}\\frac{128}{77}\\\\\\frac{160}{77}\\\\\\frac{192}{77}\\end{matrix}\\right]$"
      ],
      "text/plain": [
       "Matrix([\n",
       "[128/77],\n",
       "[160/77],\n",
       "[192/77]])"
      ]
     },
     "execution_count": 10,
     "metadata": {},
     "output_type": "execute_result"
    }
   ],
   "source": [
    "def projection(v1: sp.Matrix, v2: sp.Matrix, v1_name = \"a\", v2_name = \"b\") -> sp.Matrix:\n",
    "    display(Markdown(f\"#### Посчитаем проекцию {v1_name} на {v2_name}\"))\n",
    "\n",
    "    v1_dot_v2 = scalar_product(v1, v2, v1_name, v2_name)\n",
    "    v2_dot_v2 = scalar_product(v2, v2, v2_name, v2_name)\n",
    "    proj_result = (v1_dot_v2 / v2_dot_v2) * v2\n",
    "\n",
    "    # Формула для вывода проекции. Просто выводит формулу проекции красивую. И все.\n",
    "    formula = get_proj_formula(v1_name, v2_name) + ' = \\\\frac{\\\\langle\\\\mathbf{' + v1_name + '} ,\\\\mathbf{' + v2_name + '}\\\\rangle}{\\\\lVert{\\\\mathbf{' + v2_name + '}}^2\\\\rVert} \\\\mathbf{' + v2_name + '} = ' + '\\\\frac{' + str(v1_dot_v2) + '}{' + str(v2_dot_v2) + '} \\\\mathbf{' + sp.latex(v2) + '} = ' + sp.latex(proj_result)\n",
    "    display(Math(formula))\n",
    "\n",
    "    return proj_result\n",
    "\n",
    "projection(sp.Matrix([1, 2, 3]), sp.Matrix([4, 5, 6]))"
   ]
  },
  {
   "cell_type": "code",
   "execution_count": 62,
   "metadata": {
    "pycharm": {
     "name": "#%%\n"
    }
   },
   "outputs": [
    {
     "data": {
      "text/plain": "' Тест '"
     },
     "execution_count": 62,
     "metadata": {},
     "output_type": "execute_result"
    },
    {
     "data": {
      "text/plain": "<IPython.core.display.Markdown object>",
      "text/markdown": "### Новый вектор b_2"
     },
     "metadata": {},
     "output_type": "display_data"
    },
    {
     "data": {
      "text/plain": "<IPython.core.display.Math object>",
      "text/latex": "$\\displaystyle b_2 = a_2 - \\textit{proj}_{\\mathbf{b_1}}\\mathbf{a_2}$"
     },
     "metadata": {},
     "output_type": "display_data"
    },
    {
     "data": {
      "text/plain": "<IPython.core.display.Markdown object>",
      "text/markdown": "#### Посчитаем проекцию a_2 на b_1"
     },
     "metadata": {},
     "output_type": "display_data"
    },
    {
     "data": {
      "text/plain": "<IPython.core.display.Math object>",
      "text/latex": "$\\displaystyle \\langle\\mathbf{a_2} ,\\mathbf{b_1}\\rangle = 1\\cdot1 + 1\\cdot-1 + 1\\cdot0 + 1\\cdot1 = 1$"
     },
     "metadata": {},
     "output_type": "display_data"
    },
    {
     "data": {
      "text/plain": "<IPython.core.display.Math object>",
      "text/latex": "$\\displaystyle \\langle\\mathbf{b_1} ,\\mathbf{b_1}\\rangle = 1\\cdot1 + -1\\cdot-1 + 0\\cdot0 + 1\\cdot1 = 3$"
     },
     "metadata": {},
     "output_type": "display_data"
    },
    {
     "data": {
      "text/plain": "<IPython.core.display.Math object>",
      "text/latex": "$\\displaystyle \\textit{proj}_{\\mathbf{b_1}}\\mathbf{a_2} = \\frac{\\langle\\mathbf{a_2} ,\\mathbf{b_1}\\rangle}{\\lVert{\\mathbf{b_1}}^2\\rVert} \\mathbf{b_1} = \\frac{1}{3} \\mathbf{\\left[\\begin{matrix}1\\\\-1\\\\0\\\\1\\end{matrix}\\right]} = \\left[\\begin{matrix}\\frac{1}{3}\\\\- \\frac{1}{3}\\\\0\\\\\\frac{1}{3}\\end{matrix}\\right]$"
     },
     "metadata": {},
     "output_type": "display_data"
    },
    {
     "data": {
      "text/plain": "<IPython.core.display.Math object>",
      "text/latex": "$\\displaystyle b_2 = \\left[\\begin{matrix}\\frac{2}{3}\\\\\\frac{4}{3}\\\\1\\\\\\frac{2}{3}\\end{matrix}\\right]$"
     },
     "metadata": {},
     "output_type": "display_data"
    },
    {
     "data": {
      "text/plain": "<IPython.core.display.Markdown object>",
      "text/markdown": "### Новый вектор b_3"
     },
     "metadata": {},
     "output_type": "display_data"
    },
    {
     "data": {
      "text/plain": "<IPython.core.display.Math object>",
      "text/latex": "$\\displaystyle b_3 = a_3 - \\textit{proj}_{\\mathbf{b_1}}\\mathbf{a_3} - \\textit{proj}_{\\mathbf{b_2}}\\mathbf{a_3}$"
     },
     "metadata": {},
     "output_type": "display_data"
    },
    {
     "data": {
      "text/plain": "<IPython.core.display.Markdown object>",
      "text/markdown": "#### Посчитаем проекцию a_3 на b_1"
     },
     "metadata": {},
     "output_type": "display_data"
    },
    {
     "data": {
      "text/plain": "<IPython.core.display.Math object>",
      "text/latex": "$\\displaystyle \\langle\\mathbf{a_3} ,\\mathbf{b_1}\\rangle = 0\\cdot1 + -1\\cdot-1 + 1\\cdot0 + 1\\cdot1 = 2$"
     },
     "metadata": {},
     "output_type": "display_data"
    },
    {
     "data": {
      "text/plain": "<IPython.core.display.Math object>",
      "text/latex": "$\\displaystyle \\langle\\mathbf{b_1} ,\\mathbf{b_1}\\rangle = 1\\cdot1 + -1\\cdot-1 + 0\\cdot0 + 1\\cdot1 = 3$"
     },
     "metadata": {},
     "output_type": "display_data"
    },
    {
     "data": {
      "text/plain": "<IPython.core.display.Math object>",
      "text/latex": "$\\displaystyle \\textit{proj}_{\\mathbf{b_1}}\\mathbf{a_3} = \\frac{\\langle\\mathbf{a_3} ,\\mathbf{b_1}\\rangle}{\\lVert{\\mathbf{b_1}}^2\\rVert} \\mathbf{b_1} = \\frac{2}{3} \\mathbf{\\left[\\begin{matrix}1\\\\-1\\\\0\\\\1\\end{matrix}\\right]} = \\left[\\begin{matrix}\\frac{2}{3}\\\\- \\frac{2}{3}\\\\0\\\\\\frac{2}{3}\\end{matrix}\\right]$"
     },
     "metadata": {},
     "output_type": "display_data"
    },
    {
     "data": {
      "text/plain": "<IPython.core.display.Markdown object>",
      "text/markdown": "#### Посчитаем проекцию a_3 на b_2"
     },
     "metadata": {},
     "output_type": "display_data"
    },
    {
     "data": {
      "text/plain": "<IPython.core.display.Math object>",
      "text/latex": "$\\displaystyle \\langle\\mathbf{a_3} ,\\mathbf{b_2}\\rangle = 0\\cdot2/3 + -1\\cdot4/3 + 1\\cdot1 + 1\\cdot2/3 = 1/3$"
     },
     "metadata": {},
     "output_type": "display_data"
    },
    {
     "data": {
      "text/plain": "<IPython.core.display.Math object>",
      "text/latex": "$\\displaystyle \\langle\\mathbf{b_2} ,\\mathbf{b_2}\\rangle = 2/3\\cdot2/3 + 4/3\\cdot4/3 + 1\\cdot1 + 2/3\\cdot2/3 = 11/3$"
     },
     "metadata": {},
     "output_type": "display_data"
    },
    {
     "data": {
      "text/plain": "<IPython.core.display.Math object>",
      "text/latex": "$\\displaystyle \\textit{proj}_{\\mathbf{b_2}}\\mathbf{a_3} = \\frac{\\langle\\mathbf{a_3} ,\\mathbf{b_2}\\rangle}{\\lVert{\\mathbf{b_2}}^2\\rVert} \\mathbf{b_2} = \\frac{1/3}{11/3} \\mathbf{\\left[\\begin{matrix}\\frac{2}{3}\\\\\\frac{4}{3}\\\\1\\\\\\frac{2}{3}\\end{matrix}\\right]} = \\left[\\begin{matrix}\\frac{2}{33}\\\\\\frac{4}{33}\\\\\\frac{1}{11}\\\\\\frac{2}{33}\\end{matrix}\\right]$"
     },
     "metadata": {},
     "output_type": "display_data"
    },
    {
     "data": {
      "text/plain": "<IPython.core.display.Math object>",
      "text/latex": "$\\displaystyle b_3 = \\left[\\begin{matrix}- \\frac{8}{11}\\\\- \\frac{5}{11}\\\\\\frac{10}{11}\\\\\\frac{3}{11}\\end{matrix}\\right]$"
     },
     "metadata": {},
     "output_type": "display_data"
    },
    {
     "data": {
      "text/plain": "<IPython.core.display.Markdown object>",
      "text/markdown": "### Результат"
     },
     "metadata": {},
     "output_type": "display_data"
    },
    {
     "data": {
      "text/plain": "<IPython.core.display.Math object>",
      "text/latex": "$\\displaystyle b_1 = \\left[\\begin{matrix}1\\\\-1\\\\0\\\\1\\end{matrix}\\right]$"
     },
     "metadata": {},
     "output_type": "display_data"
    },
    {
     "data": {
      "text/plain": "<IPython.core.display.Math object>",
      "text/latex": "$\\displaystyle b_2 = \\left[\\begin{matrix}\\frac{2}{3}\\\\\\frac{4}{3}\\\\1\\\\\\frac{2}{3}\\end{matrix}\\right]$"
     },
     "metadata": {},
     "output_type": "display_data"
    },
    {
     "data": {
      "text/plain": "<IPython.core.display.Math object>",
      "text/latex": "$\\displaystyle b_3 = \\left[\\begin{matrix}- \\frac{8}{11}\\\\- \\frac{5}{11}\\\\\\frac{10}{11}\\\\\\frac{3}{11}\\end{matrix}\\right]$"
     },
     "metadata": {},
     "output_type": "display_data"
    }
   ],
   "source": [
    "def orthoganalize(vectors: list[sp.Matrix], vectors_name = 'a', projections_name = 'b') -> list[sp.Matrix]:\n",
    "    # Список проекций\n",
    "    projections: list[sp.Matrix] = list()\n",
    "\n",
    "    # Первый вектор b1 = a1 будем добавлять без изменений\n",
    "    projections.append(vectors[0])\n",
    "\n",
    "    for vector_ind in range(1, len(vectors)):\n",
    "        # Вывод формул\n",
    "        projection_vector_name = projections_name + \"_\" + str(vector_ind + 1)\n",
    "        vector_name = vectors_name + \"_\" + str(vector_ind + 1)\n",
    "        formula = projection_vector_name + \" = \" + str(vector_name)\n",
    "\n",
    "        display(Markdown(f\"### Новый вектор {projection_vector_name}\"))\n",
    "\n",
    "        for base in range(0, vector_ind):\n",
    "            projection_name = projections_name + \"_\" + str(base + 1)\n",
    "            formula += \" - \" + get_proj_formula(vector_name, projection_name)\n",
    "        display(Math(formula))\n",
    "\n",
    "        # Вычисления\n",
    "        result = vectors[vector_ind]\n",
    "        for base in range(0, vector_ind):\n",
    "            projection_name = projections_name + \"_\" + str(base + 1)\n",
    "            result -= projection(vectors[vector_ind], projections[base], vector_name, projection_name)\n",
    "\n",
    "        display(Math(projection_vector_name + \" = \" + sp.latex(result)))\n",
    "        projections.append(result)\n",
    "\n",
    "    return projections\n",
    "\n",
    "\"\"\" Тест \"\"\"\n",
    "result = orthoganalize([sp.Matrix([1, -1, 0, 1]), sp.Matrix([1, 1, 1, 1]), sp.Matrix([0, -1, 1, 1])])\n",
    "\n",
    "display(Markdown(f\"### Результат\"))\n",
    "for vector_ind in range(len(result)):\n",
    "    projection_vector_name = 'b' + \"_\" + str(vector_ind + 1)\n",
    "    display(Math(projection_vector_name + \" = \" + sp.latex(result[vector_ind])))"
   ]
  },
  {
   "cell_type": "markdown",
   "metadata": {},
   "source": [
    "# QR-разложение"
   ]
  },
  {
   "cell_type": "code",
   "execution_count": 63,
   "metadata": {
    "pycharm": {
     "name": "#%%\n"
    }
   },
   "outputs": [
    {
     "data": {
      "text/plain": "<IPython.core.display.Markdown object>",
      "text/markdown": "### Ортоганализуем вектора по Граму-Шмидту"
     },
     "metadata": {},
     "output_type": "display_data"
    },
    {
     "data": {
      "text/plain": "<IPython.core.display.Markdown object>",
      "text/markdown": "### Новый вектор b_2"
     },
     "metadata": {},
     "output_type": "display_data"
    },
    {
     "data": {
      "text/plain": "<IPython.core.display.Math object>",
      "text/latex": "$\\displaystyle b_2 = a_2 - \\textit{proj}_{\\mathbf{b_1}}\\mathbf{a_2}$"
     },
     "metadata": {},
     "output_type": "display_data"
    },
    {
     "data": {
      "text/plain": "<IPython.core.display.Markdown object>",
      "text/markdown": "#### Посчитаем проекцию a_2 на b_1"
     },
     "metadata": {},
     "output_type": "display_data"
    },
    {
     "data": {
      "text/plain": "<IPython.core.display.Math object>",
      "text/latex": "$\\displaystyle \\langle\\mathbf{a_2} ,\\mathbf{b_1}\\rangle = 3\\cdot1 + 3\\cdot2 + -3\\cdot-1 = 12$"
     },
     "metadata": {},
     "output_type": "display_data"
    },
    {
     "data": {
      "text/plain": "<IPython.core.display.Math object>",
      "text/latex": "$\\displaystyle \\langle\\mathbf{b_1} ,\\mathbf{b_1}\\rangle = 1\\cdot1 + 2\\cdot2 + -1\\cdot-1 = 6$"
     },
     "metadata": {},
     "output_type": "display_data"
    },
    {
     "data": {
      "text/plain": "<IPython.core.display.Math object>",
      "text/latex": "$\\displaystyle \\textit{proj}_{\\mathbf{b_1}}\\mathbf{a_2} = \\frac{\\langle\\mathbf{a_2} ,\\mathbf{b_1}\\rangle}{\\lVert{\\mathbf{b_1}}^2\\rVert} \\mathbf{b_1} = \\frac{12}{6} \\mathbf{\\left[\\begin{matrix}1\\\\2\\\\-1\\end{matrix}\\right]} = \\left[\\begin{matrix}2\\\\4\\\\-2\\end{matrix}\\right]$"
     },
     "metadata": {},
     "output_type": "display_data"
    },
    {
     "data": {
      "text/plain": "<IPython.core.display.Math object>",
      "text/latex": "$\\displaystyle b_2 = \\left[\\begin{matrix}1\\\\-1\\\\-1\\end{matrix}\\right]$"
     },
     "metadata": {},
     "output_type": "display_data"
    },
    {
     "data": {
      "text/plain": "<IPython.core.display.Markdown object>",
      "text/markdown": "### Новый вектор b_3"
     },
     "metadata": {},
     "output_type": "display_data"
    },
    {
     "data": {
      "text/plain": "<IPython.core.display.Math object>",
      "text/latex": "$\\displaystyle b_3 = a_3 - \\textit{proj}_{\\mathbf{b_1}}\\mathbf{a_3} - \\textit{proj}_{\\mathbf{b_2}}\\mathbf{a_3}$"
     },
     "metadata": {},
     "output_type": "display_data"
    },
    {
     "data": {
      "text/plain": "<IPython.core.display.Markdown object>",
      "text/markdown": "#### Посчитаем проекцию a_3 на b_1"
     },
     "metadata": {},
     "output_type": "display_data"
    },
    {
     "data": {
      "text/plain": "<IPython.core.display.Math object>",
      "text/latex": "$\\displaystyle \\langle\\mathbf{a_3} ,\\mathbf{b_1}\\rangle = 3\\cdot1 + 1\\cdot2 + -1\\cdot-1 = 6$"
     },
     "metadata": {},
     "output_type": "display_data"
    },
    {
     "data": {
      "text/plain": "<IPython.core.display.Math object>",
      "text/latex": "$\\displaystyle \\langle\\mathbf{b_1} ,\\mathbf{b_1}\\rangle = 1\\cdot1 + 2\\cdot2 + -1\\cdot-1 = 6$"
     },
     "metadata": {},
     "output_type": "display_data"
    },
    {
     "data": {
      "text/plain": "<IPython.core.display.Math object>",
      "text/latex": "$\\displaystyle \\textit{proj}_{\\mathbf{b_1}}\\mathbf{a_3} = \\frac{\\langle\\mathbf{a_3} ,\\mathbf{b_1}\\rangle}{\\lVert{\\mathbf{b_1}}^2\\rVert} \\mathbf{b_1} = \\frac{6}{6} \\mathbf{\\left[\\begin{matrix}1\\\\2\\\\-1\\end{matrix}\\right]} = \\left[\\begin{matrix}1\\\\2\\\\-1\\end{matrix}\\right]$"
     },
     "metadata": {},
     "output_type": "display_data"
    },
    {
     "data": {
      "text/plain": "<IPython.core.display.Markdown object>",
      "text/markdown": "#### Посчитаем проекцию a_3 на b_2"
     },
     "metadata": {},
     "output_type": "display_data"
    },
    {
     "data": {
      "text/plain": "<IPython.core.display.Math object>",
      "text/latex": "$\\displaystyle \\langle\\mathbf{a_3} ,\\mathbf{b_2}\\rangle = 3\\cdot1 + 1\\cdot-1 + -1\\cdot-1 = 3$"
     },
     "metadata": {},
     "output_type": "display_data"
    },
    {
     "data": {
      "text/plain": "<IPython.core.display.Math object>",
      "text/latex": "$\\displaystyle \\langle\\mathbf{b_2} ,\\mathbf{b_2}\\rangle = 1\\cdot1 + -1\\cdot-1 + -1\\cdot-1 = 3$"
     },
     "metadata": {},
     "output_type": "display_data"
    },
    {
     "data": {
      "text/plain": "<IPython.core.display.Math object>",
      "text/latex": "$\\displaystyle \\textit{proj}_{\\mathbf{b_2}}\\mathbf{a_3} = \\frac{\\langle\\mathbf{a_3} ,\\mathbf{b_2}\\rangle}{\\lVert{\\mathbf{b_2}}^2\\rVert} \\mathbf{b_2} = \\frac{3}{3} \\mathbf{\\left[\\begin{matrix}1\\\\-1\\\\-1\\end{matrix}\\right]} = \\left[\\begin{matrix}1\\\\-1\\\\-1\\end{matrix}\\right]$"
     },
     "metadata": {},
     "output_type": "display_data"
    },
    {
     "data": {
      "text/plain": "<IPython.core.display.Math object>",
      "text/latex": "$\\displaystyle b_3 = \\left[\\begin{matrix}1\\\\0\\\\1\\end{matrix}\\right]$"
     },
     "metadata": {},
     "output_type": "display_data"
    },
    {
     "data": {
      "text/plain": "<IPython.core.display.Markdown object>",
      "text/markdown": "### Результат"
     },
     "metadata": {},
     "output_type": "display_data"
    },
    {
     "data": {
      "text/plain": "<IPython.core.display.Math object>",
      "text/latex": "$\\displaystyle b_1 = \\left[\\begin{matrix}1\\\\2\\\\-1\\end{matrix}\\right]$"
     },
     "metadata": {},
     "output_type": "display_data"
    },
    {
     "data": {
      "text/plain": "<IPython.core.display.Math object>",
      "text/latex": "$\\displaystyle b_2 = \\left[\\begin{matrix}1\\\\-1\\\\-1\\end{matrix}\\right]$"
     },
     "metadata": {},
     "output_type": "display_data"
    },
    {
     "data": {
      "text/plain": "<IPython.core.display.Math object>",
      "text/latex": "$\\displaystyle b_3 = \\left[\\begin{matrix}1\\\\0\\\\1\\end{matrix}\\right]$"
     },
     "metadata": {},
     "output_type": "display_data"
    },
    {
     "data": {
      "text/plain": "<IPython.core.display.Markdown object>",
      "text/markdown": "### Нормализуем"
     },
     "metadata": {},
     "output_type": "display_data"
    },
    {
     "data": {
      "text/plain": "<IPython.core.display.Math object>",
      "text/latex": "$\\displaystyle Q = \\left[\\begin{matrix}\\frac{\\sqrt{6}}{6} & \\frac{\\sqrt{3}}{3} & \\frac{\\sqrt{2}}{2}\\\\\\frac{\\sqrt{6}}{3} & - \\frac{\\sqrt{3}}{3} & 0\\\\- \\frac{\\sqrt{6}}{6} & - \\frac{\\sqrt{3}}{3} & \\frac{\\sqrt{2}}{2}\\end{matrix}\\right] - ортогональна$"
     },
     "metadata": {},
     "output_type": "display_data"
    },
    {
     "data": {
      "text/plain": "<IPython.core.display.Markdown object>",
      "text/markdown": "### Найдем R"
     },
     "metadata": {},
     "output_type": "display_data"
    },
    {
     "data": {
      "text/plain": "<IPython.core.display.Math object>",
      "text/latex": "$\\displaystyle R = Q^{-1} \\cdot A = Q^{T} \\cdot A$"
     },
     "metadata": {},
     "output_type": "display_data"
    },
    {
     "data": {
      "text/plain": "<IPython.core.display.Math object>",
      "text/latex": "$\\displaystyle Q^{T} = \\left[\\begin{matrix}\\frac{\\sqrt{6}}{6} & \\frac{\\sqrt{6}}{3} & - \\frac{\\sqrt{6}}{6}\\\\\\frac{\\sqrt{3}}{3} & - \\frac{\\sqrt{3}}{3} & - \\frac{\\sqrt{3}}{3}\\\\\\frac{\\sqrt{2}}{2} & 0 & \\frac{\\sqrt{2}}{2}\\end{matrix}\\right]$"
     },
     "metadata": {},
     "output_type": "display_data"
    },
    {
     "data": {
      "text/plain": "<IPython.core.display.Math object>",
      "text/latex": "$\\displaystyle R = \\left[\\begin{matrix}\\sqrt{6} & 2 \\sqrt{6} & \\sqrt{6}\\\\0 & \\sqrt{3} & \\sqrt{3}\\\\0 & 0 & \\sqrt{2}\\end{matrix}\\right]$"
     },
     "metadata": {},
     "output_type": "display_data"
    },
    {
     "data": {
      "text/plain": "Matrix([\n[ 1,  3,  3],\n[ 2,  3,  1],\n[-1, -3, -1]])",
      "text/latex": "$\\displaystyle \\left[\\begin{matrix}1 & 3 & 3\\\\2 & 3 & 1\\\\-1 & -3 & -1\\end{matrix}\\right]$"
     },
     "metadata": {},
     "output_type": "display_data"
    },
    {
     "data": {
      "text/plain": "Matrix([\n[ 1,  3,  3],\n[ 2,  3,  1],\n[-1, -3, -1]])",
      "text/latex": "$\\displaystyle \\left[\\begin{matrix}1 & 3 & 3\\\\2 & 3 & 1\\\\-1 & -3 & -1\\end{matrix}\\right]$"
     },
     "metadata": {},
     "output_type": "display_data"
    }
   ],
   "source": [
    "def QRdecomposition(vectors: list[sp.Matrix]):\n",
    "    display(Markdown(f\"### Ортоганализуем вектора по Граму-Шмидту\"))\n",
    "    orthoganalized = orthoganalize(vectors)\n",
    "    display(Markdown(f\"### Результат\"))\n",
    "    for vector_ind in range(len(orthoganalized)):\n",
    "        projection_vector_name = 'b' + \"_\" + str(vector_ind + 1)\n",
    "        display(Math(projection_vector_name + \" = \" + sp.latex(orthoganalized[vector_ind])))\n",
    "\n",
    "    display(Markdown(f\"### Нормализуем\"))\n",
    "    Q = sp.Matrix.hstack(*matrix_normalize(orthoganalized))\n",
    "\n",
    "    display(Math(\"Q = \" + sp.latex(Q) + \" - ортогональна\"))\n",
    "\n",
    "    display(Markdown(f\"### Найдем R\"))\n",
    "    display(Math(\"R = Q^{-1} \\\\cdot A = Q^{T} \\\\cdot A\"))\n",
    "    display(Math(\"Q^{T} = \" + sp.latex(Q.T)))\n",
    "    A = sp.Matrix.hstack(*vectors)\n",
    "    R = Q.T * A\n",
    "    display(Math(\"R = \" + sp.latex(R)))\n",
    "    display(Q * R)\n",
    "    display(A)\n",
    "\n",
    "\"\"\" Тест \"\"\"\n",
    "QRdecomposition([sp.Matrix([1, 2, -1]), sp.Matrix([3, 3, -3]), sp.Matrix([3, 1, -1])])"
   ]
  },
  {
   "cell_type": "code",
   "execution_count": null,
   "metadata": {
    "pycharm": {
     "name": "#%%\n"
    }
   },
   "outputs": [],
   "source": []
  }
 ],
 "metadata": {
  "kernelspec": {
   "display_name": "Python 3 (ipykernel)",
   "language": "python",
   "name": "python3"
  },
  "language_info": {
   "codemirror_mode": {
    "name": "ipython",
    "version": 3
   },
   "file_extension": ".py",
   "mimetype": "text/x-python",
   "name": "python",
   "nbconvert_exporter": "python",
   "pygments_lexer": "ipython3",
   "version": "3.9.6"
  }
 },
 "nbformat": 4,
 "nbformat_minor": 1
}