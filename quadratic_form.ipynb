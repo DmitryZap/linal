{
 "cells": [
  {
   "cell_type": "code",
   "execution_count": 11,
   "metadata": {
    "collapsed": true,
    "ExecuteTime": {
     "end_time": "2023-06-29T15:05:56.809615Z",
     "start_time": "2023-06-29T15:05:56.805170Z"
    }
   },
   "outputs": [],
   "source": [
    "import sympy as sp\n",
    "from IPython.display import display\n",
    "from IPython.core.interactiveshell import InteractiveShell\n",
    "\n",
    "InteractiveShell.ast_node_interactivity = \"all\""
   ]
  },
  {
   "cell_type": "code",
   "execution_count": 12,
   "outputs": [
    {
     "data": {
      "text/plain": "Matrix([\n[ 2, -1, -2],\n[-1,  5,  1],\n[-2,  1,  2]])",
      "text/latex": "$\\displaystyle \\left[\\begin{matrix}2 & -1 & -2\\\\-1 & 5 & 1\\\\-2 & 1 & 2\\end{matrix}\\right]$"
     },
     "execution_count": 12,
     "metadata": {},
     "output_type": "execute_result"
    }
   ],
   "source": [
    "Q = sp.Matrix([\n",
    "    [2, -1, -2],\n",
    "    [-1, 5, 1],\n",
    "    [-2, 1, 2],\n",
    "])\n",
    "\n",
    "A = sp.Matrix([2, -10, -2])\n",
    "\n",
    "Q"
   ],
   "metadata": {
    "collapsed": false,
    "ExecuteTime": {
     "end_time": "2023-06-29T15:05:57.467110Z",
     "start_time": "2023-06-29T15:05:57.456001Z"
    }
   }
  },
  {
   "cell_type": "code",
   "execution_count": 13,
   "outputs": [
    {
     "data": {
      "text/plain": "lambda**3 - 9*lambda**2 + 18*lambda",
      "text/latex": "$\\displaystyle \\lambda^{3} - 9 \\lambda^{2} + 18 \\lambda$"
     },
     "execution_count": 13,
     "metadata": {},
     "output_type": "execute_result"
    }
   ],
   "source": [
    "Q_char = Q.charpoly().as_expr()\n",
    "\n",
    "Q_char"
   ],
   "metadata": {
    "collapsed": false,
    "ExecuteTime": {
     "end_time": "2023-06-29T15:06:00.183685Z",
     "start_time": "2023-06-29T15:06:00.170853Z"
    }
   }
  },
  {
   "cell_type": "code",
   "execution_count": 20,
   "outputs": [
    {
     "data": {
      "text/plain": "[0, 3, 6]"
     },
     "metadata": {},
     "output_type": "display_data"
    },
    {
     "data": {
      "text/plain": "{6: 1, 3: 1, 0: 1}"
     },
     "metadata": {},
     "output_type": "display_data"
    }
   ],
   "source": [
    "Q_eigenvalues = sp.solvers.solve(Q_char)\n",
    "\n",
    "display(Q_eigenvalues)\n",
    "display(Q.eigenvals())"
   ],
   "metadata": {
    "collapsed": false,
    "ExecuteTime": {
     "end_time": "2023-06-29T15:11:48.764791Z",
     "start_time": "2023-06-29T15:11:48.747160Z"
    }
   }
  },
  {
   "cell_type": "code",
   "execution_count": 19,
   "outputs": [
    {
     "data": {
      "text/plain": "Matrix([\n[ 2, -1, -2],\n[-1,  5,  1],\n[-2,  1,  2]])",
      "text/latex": "$\\displaystyle \\left[\\begin{matrix}2 & -1 & -2\\\\-1 & 5 & 1\\\\-2 & 1 & 2\\end{matrix}\\right]$"
     },
     "metadata": {},
     "output_type": "display_data"
    },
    {
     "data": {
      "text/plain": "Matrix([\n[-1, -1, -2],\n[-1,  2,  1],\n[-2,  1, -1]])",
      "text/latex": "$\\displaystyle \\left[\\begin{matrix}-1 & -1 & -2\\\\-1 & 2 & 1\\\\-2 & 1 & -1\\end{matrix}\\right]$"
     },
     "metadata": {},
     "output_type": "display_data"
    },
    {
     "data": {
      "text/plain": "Matrix([\n[-4, -1, -2],\n[-1, -1,  1],\n[-2,  1, -4]])",
      "text/latex": "$\\displaystyle \\left[\\begin{matrix}-4 & -1 & -2\\\\-1 & -1 & 1\\\\-2 & 1 & -4\\end{matrix}\\right]$"
     },
     "metadata": {},
     "output_type": "display_data"
    },
    {
     "data": {
      "text/plain": "[(0,\n  1,\n  [Matrix([\n   [1],\n   [0],\n   [1]])]),\n (3,\n  1,\n  [Matrix([\n   [-1],\n   [-1],\n   [ 1]])]),\n (6,\n  1,\n  [Matrix([\n   [-1],\n   [ 2],\n   [ 1]])])]"
     },
     "execution_count": 19,
     "metadata": {},
     "output_type": "execute_result"
    }
   ],
   "source": [
    "Q_eigenvectors = Q.eigenvects()\n",
    "\n",
    "for lam in Q_eigenvalues:\n",
    "    S = Q - lam * sp.matrices.eye(Q.shape[0])\n",
    "    display(S)"
   ],
   "metadata": {
    "collapsed": false,
    "ExecuteTime": {
     "end_time": "2023-06-29T15:10:39.896040Z",
     "start_time": "2023-06-29T15:10:39.855924Z"
    }
   }
  },
  {
   "cell_type": "code",
   "execution_count": null,
   "outputs": [],
   "source": [],
   "metadata": {
    "collapsed": false
   }
  }
 ],
 "metadata": {
  "kernelspec": {
   "display_name": "Python 3",
   "language": "python",
   "name": "python3"
  },
  "language_info": {
   "codemirror_mode": {
    "name": "ipython",
    "version": 2
   },
   "file_extension": ".py",
   "mimetype": "text/x-python",
   "name": "python",
   "nbconvert_exporter": "python",
   "pygments_lexer": "ipython2",
   "version": "2.7.6"
  }
 },
 "nbformat": 4,
 "nbformat_minor": 0
}
