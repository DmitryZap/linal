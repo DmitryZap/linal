{
 "cells": [
  {
   "cell_type": "code",
   "execution_count": 34,
   "metadata": {
    "ExecuteTime": {
     "end_time": "2023-06-29T16:27:24.678389Z",
     "start_time": "2023-06-29T16:27:24.672815Z"
    }
   },
   "outputs": [],
   "source": [
    "import sympy as sp\n",
    "from IPython.core.interactiveshell import InteractiveShell\n",
    "from IPython.display import display, Math, Latex, Markdown\n",
    "\n",
    "InteractiveShell.ast_node_interactivity = \"all\""
   ]
  },
  {
   "cell_type": "markdown",
   "metadata": {},
   "source": [
    "# Системное (сюда не лезть!!)"
   ]
  },
  {
   "cell_type": "markdown",
   "metadata": {},
   "source": [
    "## Поиск собственных значений и векторов"
   ]
  },
  {
   "cell_type": "code",
   "execution_count": 44,
   "metadata": {
    "ExecuteTime": {
     "end_time": "2023-06-29T16:58:21.182501Z",
     "start_time": "2023-06-29T16:58:21.128154Z"
    },
    "scrolled": true
   },
   "outputs": [
    {
     "data": {
      "text/markdown": [
       "## Посчитаем собственные вектора матрицы"
      ],
      "text/plain": [
       "<IPython.core.display.Markdown object>"
      ]
     },
     "metadata": {},
     "output_type": "display_data"
    },
    {
     "data": {
      "text/markdown": [
       "Сначала найдем характеристический многочлен"
      ],
      "text/plain": [
       "<IPython.core.display.Markdown object>"
      ]
     },
     "metadata": {},
     "output_type": "display_data"
    },
    {
     "data": {
      "text/latex": [
       "$\\displaystyle Q - \\lambda \\cdot E = $"
      ],
      "text/plain": [
       "<IPython.core.display.Math object>"
      ]
     },
     "metadata": {},
     "output_type": "display_data"
    },
    {
     "data": {
      "text/latex": [
       "$\\displaystyle \\left|{\\begin{matrix}2 - \\lambda & -1 & -2\\\\-1 & 5 - \\lambda & 1\\\\-2 & 1 & 2 - \\lambda\\end{matrix}}\\right|$"
      ],
      "text/plain": [
       "Determinant(Matrix([\n",
       "[2 - \\lambda,          -1,          -2],\n",
       "[         -1, 5 - \\lambda,           1],\n",
       "[         -2,           1, 2 - \\lambda]]))"
      ]
     },
     "metadata": {},
     "output_type": "display_data"
    },
    {
     "data": {
      "text/latex": [
       "$\\displaystyle - \\lambda^{3} + 9 \\lambda^{2} - 18 \\lambda$"
      ],
      "text/plain": [
       "-\\lambda**3 + 9*\\lambda**2 - 18*\\lambda"
      ]
     },
     "metadata": {},
     "output_type": "display_data"
    },
    {
     "data": {
      "text/markdown": [
       "Найдем его корни и их алгебраические кратности"
      ],
      "text/plain": [
       "<IPython.core.display.Markdown object>"
      ]
     },
     "metadata": {},
     "output_type": "display_data"
    },
    {
     "data": {
      "text/latex": [
       "$\\displaystyle \\lambda_0 = 0, \\alpha(0) = 1$"
      ],
      "text/plain": [
       "<IPython.core.display.Math object>"
      ]
     },
     "metadata": {},
     "output_type": "display_data"
    },
    {
     "data": {
      "text/latex": [
       "$\\displaystyle \\lambda_1 = 3, \\alpha(3) = 1$"
      ],
      "text/plain": [
       "<IPython.core.display.Math object>"
      ]
     },
     "metadata": {},
     "output_type": "display_data"
    },
    {
     "data": {
      "text/latex": [
       "$\\displaystyle \\lambda_2 = 6, \\alpha(6) = 1$"
      ],
      "text/plain": [
       "<IPython.core.display.Math object>"
      ]
     },
     "metadata": {},
     "output_type": "display_data"
    }
   ],
   "source": [
    "class Eigenvector:\n",
    "    def __init__(self, eigenvalue, alpha, eigenvectors):\n",
    "        self.eigenvalue = eigenvalue\n",
    "        self.alpha = alpha\n",
    "        self.eigenvectors = eigenvectors\n",
    "        self.gamma = len(eigenvectors)\n",
    "\n",
    "\n",
    "def find_eigenvectors(M: sp.Matrix, name: str = \"M\"):\n",
    "    display(Markdown(\"## Посчитаем собственные вектора матрицы\"))\n",
    "    \n",
    "    display(Markdown(\"Сначала найдем характеристический многочлен\"))\n",
    "    lamb = sp.Symbol(r\"\\lambda\")\n",
    "    M_char_matrix = sp.Determinant(M - lamb * sp.eye(M.shape[0]))\n",
    "    display(Math(name + \" - \" + lamb.name + r\" \\cdot E = \"))\n",
    "    display(M_char_matrix)\n",
    "    M_char = M_char_matrix.simplify()\n",
    "    display(M_char)\n",
    "    \n",
    "    display(Markdown(\"Найдем его корни и их алгебраические кратности\"))\n",
    "    \n",
    "    M_eigenvectors = M.eigenvects()\n",
    "\n",
    "    for i in range(len(M_eigenvectors)):\n",
    "        eigenvalue, alpha, _ = M_eigenvectors[i]\n",
    "        display(Math(lamb.name + \"_\" + str(i) + \" = \" + str(eigenvalue) + \", \" + r\"\\alpha(\" + str(eigenvalue) + \") = \" + str(alpha)))\n",
    "\n",
    "    display(Markdown(\"Для каждого собственного значения найдем собственное подпространство\"))\n",
    "    \n",
    "    M_result_eigenvectors = []\n",
    "    for i in range(len(M_eigenvectors)):\n",
    "        eigenvalue, alpha, eigenspace = M_eigenvectors[i]\n",
    "        displau(Math(eigenvalue))\n",
    "    \n",
    "\n",
    "find_eigenvectors(sp.Matrix([\n",
    "    [2, -1, -2],\n",
    "    [-1, 5, 1],\n",
    "    [-2, 1, 2],\n",
    "]), \"Q\")"
   ]
  },
  {
   "cell_type": "code",
   "execution_count": null,
   "metadata": {},
   "outputs": [],
   "source": []
  }
 ],
 "metadata": {
  "kernelspec": {
   "display_name": "Python 3 (ipykernel)",
   "language": "python",
   "name": "python3"
  },
  "language_info": {
   "codemirror_mode": {
    "name": "ipython",
    "version": 3
   },
   "file_extension": ".py",
   "mimetype": "text/x-python",
   "name": "python",
   "nbconvert_exporter": "python",
   "pygments_lexer": "ipython3",
   "version": "3.8.9"
  }
 },
 "nbformat": 4,
 "nbformat_minor": 1
}
